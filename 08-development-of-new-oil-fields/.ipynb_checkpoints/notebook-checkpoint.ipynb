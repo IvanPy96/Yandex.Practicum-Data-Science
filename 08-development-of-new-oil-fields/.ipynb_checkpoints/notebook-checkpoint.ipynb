{
 "cells": [
  {
   "cell_type": "markdown",
   "metadata": {},
   "source": [
    "# Описание проекта"
   ]
  },
  {
   "cell_type": "markdown",
   "metadata": {},
   "source": [
    "Допустим, вы работаете в добывающей компании «ГлавРосГосНефть». Нужно решить, где бурить новую скважину.\n",
    "\n",
    "Вам предоставлены пробы нефти в трёх регионах: в каждом 10 000 месторождений, где измерили качество нефти и объём её запасов. Постройте модель машинного обучения, которая поможет определить регион, где добыча принесёт наибольшую прибыль. Проанализируйте возможную прибыль и риски техникой *Bootstrap.*\n",
    "\n",
    "Шаги для выбора локации:\n",
    "\n",
    "- В избранном регионе ищут месторождения, для каждого определяют значения признаков;\n",
    "- Строят модель и оценивают объём запасов;\n",
    "- Выбирают месторождения с самым высокими оценками значений. Количество месторождений зависит от бюджета компании и стоимости разработки одной скважины;\n",
    "- Прибыль равна суммарной прибыли отобранных месторождений."
   ]
  },
  {
   "cell_type": "code",
   "execution_count": 1,
   "metadata": {},
   "outputs": [],
   "source": [
    "import pandas as pd\n",
    "\n",
    "%matplotlib inline\n",
    "import seaborn as sns\n",
    "import matplotlib.pyplot as plt \n",
    "\n",
    "#увеличим дефолтный размер графиков\n",
    "from pylab import rcParams\n",
    "rcParams['figure.figsize'] = 10, 5\n",
    "import scipy as sp\n",
    "import scipy.stats\n",
    "\n",
    "from sklearn.model_selection import train_test_split\n",
    "from sklearn.metrics import mean_squared_error\n",
    "import numpy as np\n",
    "from sklearn.linear_model import LinearRegression\n",
    "from sklearn.metrics import accuracy_score\n",
    "from sklearn.model_selection import GridSearchCV\n",
    "from sklearn.preprocessing import StandardScaler\n",
    "from sklearn.metrics import f1_score\n",
    "from sklearn.metrics import roc_curve\n",
    "from sklearn.metrics import roc_auc_score\n",
    "from sklearn.utils import shuffle\n",
    "from sklearn.model_selection import cross_val_score\n",
    "\n",
    "import warnings\n",
    "warnings.filterwarnings(\"ignore\")"
   ]
  },
  {
   "cell_type": "markdown",
   "metadata": {},
   "source": [
    "# 1. Загрузка и подготовка данных"
   ]
  },
  {
   "cell_type": "code",
   "execution_count": 2,
   "metadata": {},
   "outputs": [],
   "source": [
    "df1 = pd.read_csv('/Users/mordovets.i/Desktop/geo_data_0.csv')\n",
    "df2 = pd.read_csv('/Users/mordovets.i/Desktop/geo_data_1.csv')\n",
    "df3 = pd.read_csv('/Users/mordovets.i/Desktop/geo_data_2.csv')"
   ]
  },
  {
   "cell_type": "code",
   "execution_count": 3,
   "metadata": {},
   "outputs": [
    {
     "name": "stdout",
     "output_type": "stream",
     "text": [
      "<class 'pandas.core.frame.DataFrame'>\n",
      "RangeIndex: 100000 entries, 0 to 99999\n",
      "Data columns (total 5 columns):\n",
      " #   Column   Non-Null Count   Dtype  \n",
      "---  ------   --------------   -----  \n",
      " 0   id       100000 non-null  object \n",
      " 1   f0       100000 non-null  float64\n",
      " 2   f1       100000 non-null  float64\n",
      " 3   f2       100000 non-null  float64\n",
      " 4   product  100000 non-null  float64\n",
      "dtypes: float64(4), object(1)\n",
      "memory usage: 3.8+ MB\n"
     ]
    },
    {
     "data": {
      "text/html": [
       "<div>\n",
       "<style scoped>\n",
       "    .dataframe tbody tr th:only-of-type {\n",
       "        vertical-align: middle;\n",
       "    }\n",
       "\n",
       "    .dataframe tbody tr th {\n",
       "        vertical-align: top;\n",
       "    }\n",
       "\n",
       "    .dataframe thead th {\n",
       "        text-align: right;\n",
       "    }\n",
       "</style>\n",
       "<table border=\"1\" class=\"dataframe\">\n",
       "  <thead>\n",
       "    <tr style=\"text-align: right;\">\n",
       "      <th></th>\n",
       "      <th>id</th>\n",
       "      <th>f0</th>\n",
       "      <th>f1</th>\n",
       "      <th>f2</th>\n",
       "      <th>product</th>\n",
       "    </tr>\n",
       "  </thead>\n",
       "  <tbody>\n",
       "    <tr>\n",
       "      <th>0</th>\n",
       "      <td>txEyH</td>\n",
       "      <td>0.705745</td>\n",
       "      <td>-0.497823</td>\n",
       "      <td>1.221170</td>\n",
       "      <td>105.280062</td>\n",
       "    </tr>\n",
       "    <tr>\n",
       "      <th>1</th>\n",
       "      <td>2acmU</td>\n",
       "      <td>1.334711</td>\n",
       "      <td>-0.340164</td>\n",
       "      <td>4.365080</td>\n",
       "      <td>73.037750</td>\n",
       "    </tr>\n",
       "    <tr>\n",
       "      <th>2</th>\n",
       "      <td>409Wp</td>\n",
       "      <td>1.022732</td>\n",
       "      <td>0.151990</td>\n",
       "      <td>1.419926</td>\n",
       "      <td>85.265647</td>\n",
       "    </tr>\n",
       "    <tr>\n",
       "      <th>3</th>\n",
       "      <td>iJLyR</td>\n",
       "      <td>-0.032172</td>\n",
       "      <td>0.139033</td>\n",
       "      <td>2.978566</td>\n",
       "      <td>168.620776</td>\n",
       "    </tr>\n",
       "    <tr>\n",
       "      <th>4</th>\n",
       "      <td>Xdl7t</td>\n",
       "      <td>1.988431</td>\n",
       "      <td>0.155413</td>\n",
       "      <td>4.751769</td>\n",
       "      <td>154.036647</td>\n",
       "    </tr>\n",
       "  </tbody>\n",
       "</table>\n",
       "</div>"
      ],
      "text/plain": [
       "      id        f0        f1        f2     product\n",
       "0  txEyH  0.705745 -0.497823  1.221170  105.280062\n",
       "1  2acmU  1.334711 -0.340164  4.365080   73.037750\n",
       "2  409Wp  1.022732  0.151990  1.419926   85.265647\n",
       "3  iJLyR -0.032172  0.139033  2.978566  168.620776\n",
       "4  Xdl7t  1.988431  0.155413  4.751769  154.036647"
      ]
     },
     "execution_count": 3,
     "metadata": {},
     "output_type": "execute_result"
    }
   ],
   "source": [
    "df1.info()\n",
    "df1.head(5)"
   ]
  },
  {
   "cell_type": "code",
   "execution_count": 4,
   "metadata": {},
   "outputs": [
    {
     "name": "stdout",
     "output_type": "stream",
     "text": [
      "<class 'pandas.core.frame.DataFrame'>\n",
      "RangeIndex: 100000 entries, 0 to 99999\n",
      "Data columns (total 5 columns):\n",
      " #   Column   Non-Null Count   Dtype  \n",
      "---  ------   --------------   -----  \n",
      " 0   id       100000 non-null  object \n",
      " 1   f0       100000 non-null  float64\n",
      " 2   f1       100000 non-null  float64\n",
      " 3   f2       100000 non-null  float64\n",
      " 4   product  100000 non-null  float64\n",
      "dtypes: float64(4), object(1)\n",
      "memory usage: 3.8+ MB\n"
     ]
    },
    {
     "data": {
      "text/html": [
       "<div>\n",
       "<style scoped>\n",
       "    .dataframe tbody tr th:only-of-type {\n",
       "        vertical-align: middle;\n",
       "    }\n",
       "\n",
       "    .dataframe tbody tr th {\n",
       "        vertical-align: top;\n",
       "    }\n",
       "\n",
       "    .dataframe thead th {\n",
       "        text-align: right;\n",
       "    }\n",
       "</style>\n",
       "<table border=\"1\" class=\"dataframe\">\n",
       "  <thead>\n",
       "    <tr style=\"text-align: right;\">\n",
       "      <th></th>\n",
       "      <th>id</th>\n",
       "      <th>f0</th>\n",
       "      <th>f1</th>\n",
       "      <th>f2</th>\n",
       "      <th>product</th>\n",
       "    </tr>\n",
       "  </thead>\n",
       "  <tbody>\n",
       "    <tr>\n",
       "      <th>0</th>\n",
       "      <td>kBEdx</td>\n",
       "      <td>-15.001348</td>\n",
       "      <td>-8.276000</td>\n",
       "      <td>-0.005876</td>\n",
       "      <td>3.179103</td>\n",
       "    </tr>\n",
       "    <tr>\n",
       "      <th>1</th>\n",
       "      <td>62mP7</td>\n",
       "      <td>14.272088</td>\n",
       "      <td>-3.475083</td>\n",
       "      <td>0.999183</td>\n",
       "      <td>26.953261</td>\n",
       "    </tr>\n",
       "    <tr>\n",
       "      <th>2</th>\n",
       "      <td>vyE1P</td>\n",
       "      <td>6.263187</td>\n",
       "      <td>-5.948386</td>\n",
       "      <td>5.001160</td>\n",
       "      <td>134.766305</td>\n",
       "    </tr>\n",
       "    <tr>\n",
       "      <th>3</th>\n",
       "      <td>KcrkZ</td>\n",
       "      <td>-13.081196</td>\n",
       "      <td>-11.506057</td>\n",
       "      <td>4.999415</td>\n",
       "      <td>137.945408</td>\n",
       "    </tr>\n",
       "    <tr>\n",
       "      <th>4</th>\n",
       "      <td>AHL4O</td>\n",
       "      <td>12.702195</td>\n",
       "      <td>-8.147433</td>\n",
       "      <td>5.004363</td>\n",
       "      <td>134.766305</td>\n",
       "    </tr>\n",
       "  </tbody>\n",
       "</table>\n",
       "</div>"
      ],
      "text/plain": [
       "      id         f0         f1        f2     product\n",
       "0  kBEdx -15.001348  -8.276000 -0.005876    3.179103\n",
       "1  62mP7  14.272088  -3.475083  0.999183   26.953261\n",
       "2  vyE1P   6.263187  -5.948386  5.001160  134.766305\n",
       "3  KcrkZ -13.081196 -11.506057  4.999415  137.945408\n",
       "4  AHL4O  12.702195  -8.147433  5.004363  134.766305"
      ]
     },
     "execution_count": 4,
     "metadata": {},
     "output_type": "execute_result"
    }
   ],
   "source": [
    "df2.info()\n",
    "df2.head(5)"
   ]
  },
  {
   "cell_type": "code",
   "execution_count": 5,
   "metadata": {},
   "outputs": [
    {
     "name": "stdout",
     "output_type": "stream",
     "text": [
      "<class 'pandas.core.frame.DataFrame'>\n",
      "RangeIndex: 100000 entries, 0 to 99999\n",
      "Data columns (total 5 columns):\n",
      " #   Column   Non-Null Count   Dtype  \n",
      "---  ------   --------------   -----  \n",
      " 0   id       100000 non-null  object \n",
      " 1   f0       100000 non-null  float64\n",
      " 2   f1       100000 non-null  float64\n",
      " 3   f2       100000 non-null  float64\n",
      " 4   product  100000 non-null  float64\n",
      "dtypes: float64(4), object(1)\n",
      "memory usage: 3.8+ MB\n"
     ]
    },
    {
     "data": {
      "text/html": [
       "<div>\n",
       "<style scoped>\n",
       "    .dataframe tbody tr th:only-of-type {\n",
       "        vertical-align: middle;\n",
       "    }\n",
       "\n",
       "    .dataframe tbody tr th {\n",
       "        vertical-align: top;\n",
       "    }\n",
       "\n",
       "    .dataframe thead th {\n",
       "        text-align: right;\n",
       "    }\n",
       "</style>\n",
       "<table border=\"1\" class=\"dataframe\">\n",
       "  <thead>\n",
       "    <tr style=\"text-align: right;\">\n",
       "      <th></th>\n",
       "      <th>id</th>\n",
       "      <th>f0</th>\n",
       "      <th>f1</th>\n",
       "      <th>f2</th>\n",
       "      <th>product</th>\n",
       "    </tr>\n",
       "  </thead>\n",
       "  <tbody>\n",
       "    <tr>\n",
       "      <th>0</th>\n",
       "      <td>fwXo0</td>\n",
       "      <td>-1.146987</td>\n",
       "      <td>0.963328</td>\n",
       "      <td>-0.828965</td>\n",
       "      <td>27.758673</td>\n",
       "    </tr>\n",
       "    <tr>\n",
       "      <th>1</th>\n",
       "      <td>WJtFt</td>\n",
       "      <td>0.262778</td>\n",
       "      <td>0.269839</td>\n",
       "      <td>-2.530187</td>\n",
       "      <td>56.069697</td>\n",
       "    </tr>\n",
       "    <tr>\n",
       "      <th>2</th>\n",
       "      <td>ovLUW</td>\n",
       "      <td>0.194587</td>\n",
       "      <td>0.289035</td>\n",
       "      <td>-5.586433</td>\n",
       "      <td>62.871910</td>\n",
       "    </tr>\n",
       "    <tr>\n",
       "      <th>3</th>\n",
       "      <td>q6cA6</td>\n",
       "      <td>2.236060</td>\n",
       "      <td>-0.553760</td>\n",
       "      <td>0.930038</td>\n",
       "      <td>114.572842</td>\n",
       "    </tr>\n",
       "    <tr>\n",
       "      <th>4</th>\n",
       "      <td>WPMUX</td>\n",
       "      <td>-0.515993</td>\n",
       "      <td>1.716266</td>\n",
       "      <td>5.899011</td>\n",
       "      <td>149.600746</td>\n",
       "    </tr>\n",
       "  </tbody>\n",
       "</table>\n",
       "</div>"
      ],
      "text/plain": [
       "      id        f0        f1        f2     product\n",
       "0  fwXo0 -1.146987  0.963328 -0.828965   27.758673\n",
       "1  WJtFt  0.262778  0.269839 -2.530187   56.069697\n",
       "2  ovLUW  0.194587  0.289035 -5.586433   62.871910\n",
       "3  q6cA6  2.236060 -0.553760  0.930038  114.572842\n",
       "4  WPMUX -0.515993  1.716266  5.899011  149.600746"
      ]
     },
     "execution_count": 5,
     "metadata": {},
     "output_type": "execute_result"
    }
   ],
   "source": [
    "df3.info()\n",
    "df3.head(5)"
   ]
  },
  {
   "cell_type": "code",
   "execution_count": 6,
   "metadata": {},
   "outputs": [],
   "source": [
    "def info(data):\n",
    "\n",
    "    #Функция пробегает по признакам датафрейма и если тип у признака object, то смотрит уникальные значения, \n",
    "    \n",
    "    for column in data.columns:\n",
    "    \n",
    "        if data[column].dtype == 'object':\n",
    "            \n",
    "            print(column)\n",
    "            print(data[column].unique())\n",
    "            print()\n",
    "            print(data[column].value_counts())\n",
    "            print()\n",
    "            \n",
    "            \n",
    "        else:\n",
    "            \n",
    "            print(column)\n",
    "            print('Количество уникальных значений: ', len(data[column].unique()))\n",
    "            print(data[column].describe())        "
   ]
  },
  {
   "cell_type": "code",
   "execution_count": 7,
   "metadata": {},
   "outputs": [
    {
     "name": "stdout",
     "output_type": "stream",
     "text": [
      "id\n",
      "['txEyH' '2acmU' '409Wp' ... '3rnvd' '7kl59' '1CWhH']\n",
      "\n",
      "fiKDv    2\n",
      "TtcGQ    2\n",
      "bsk9y    2\n",
      "A5aEY    2\n",
      "HZww2    2\n",
      "        ..\n",
      "S47rQ    1\n",
      "NK9vU    1\n",
      "ORngY    1\n",
      "4a5mC    1\n",
      "V6hHn    1\n",
      "Name: id, Length: 99990, dtype: int64\n",
      "\n",
      "f0\n",
      "Количество уникальных значений:  100000\n",
      "count    100000.000000\n",
      "mean          0.500419\n",
      "std           0.871832\n",
      "min          -1.408605\n",
      "25%          -0.072580\n",
      "50%           0.502360\n",
      "75%           1.073581\n",
      "max           2.362331\n",
      "Name: f0, dtype: float64\n",
      "f1\n",
      "Количество уникальных значений:  100000\n",
      "count    100000.000000\n",
      "mean          0.250143\n",
      "std           0.504433\n",
      "min          -0.848218\n",
      "25%          -0.200881\n",
      "50%           0.250252\n",
      "75%           0.700646\n",
      "max           1.343769\n",
      "Name: f1, dtype: float64\n",
      "f2\n",
      "Количество уникальных значений:  100000\n",
      "count    100000.000000\n",
      "mean          2.502647\n",
      "std           3.248248\n",
      "min         -12.088328\n",
      "25%           0.287748\n",
      "50%           2.515969\n",
      "75%           4.715088\n",
      "max          16.003790\n",
      "Name: f2, dtype: float64\n",
      "product\n",
      "Количество уникальных значений:  100000\n",
      "count    100000.000000\n",
      "mean         92.500000\n",
      "std          44.288691\n",
      "min           0.000000\n",
      "25%          56.497507\n",
      "50%          91.849972\n",
      "75%         128.564089\n",
      "max         185.364347\n",
      "Name: product, dtype: float64\n"
     ]
    }
   ],
   "source": [
    "info(df1)"
   ]
  },
  {
   "cell_type": "markdown",
   "metadata": {},
   "source": [
    "Распределение у показателей странное, но явных выбросов нет,данные примерно в одном масштабе, так что в масштабировании показателей так же нет смысла. Сильно коррелирующих признаков так же не наблюдается. Кажется, все как надо. "
   ]
  },
  {
   "cell_type": "code",
   "execution_count": 8,
   "metadata": {},
   "outputs": [
    {
     "name": "stdout",
     "output_type": "stream",
     "text": [
      "id\n",
      "['kBEdx' '62mP7' 'vyE1P' ... '09gWa' 'rqwUm' 'relB0']\n",
      "\n",
      "LHZR0    2\n",
      "5ltQ6    2\n",
      "wt4Uk    2\n",
      "bfPNe    2\n",
      "Mzfhg    1\n",
      "        ..\n",
      "Theva    1\n",
      "pSAxF    1\n",
      "BL3PC    1\n",
      "mxbUW    1\n",
      "8BDyn    1\n",
      "Name: id, Length: 99996, dtype: int64\n",
      "\n",
      "f0\n",
      "Количество уникальных значений:  100000\n",
      "count    100000.000000\n",
      "mean          1.141296\n",
      "std           8.965932\n",
      "min         -31.609576\n",
      "25%          -6.298551\n",
      "50%           1.153055\n",
      "75%           8.621015\n",
      "max          29.421755\n",
      "Name: f0, dtype: float64\n",
      "f1\n",
      "Количество уникальных значений:  100000\n",
      "count    100000.000000\n",
      "mean         -4.796579\n",
      "std           5.119872\n",
      "min         -26.358598\n",
      "25%          -8.267985\n",
      "50%          -4.813172\n",
      "75%          -1.332816\n",
      "max          18.734063\n",
      "Name: f1, dtype: float64\n",
      "f2\n",
      "Количество уникальных значений:  100000\n",
      "count    100000.000000\n",
      "mean          2.494541\n",
      "std           1.703572\n",
      "min          -0.018144\n",
      "25%           1.000021\n",
      "50%           2.011479\n",
      "75%           3.999904\n",
      "max           5.019721\n",
      "Name: f2, dtype: float64\n",
      "product\n",
      "Количество уникальных значений:  12\n",
      "count    100000.000000\n",
      "mean         68.825000\n",
      "std          45.944423\n",
      "min           0.000000\n",
      "25%          26.953261\n",
      "50%          57.085625\n",
      "75%         107.813044\n",
      "max         137.945408\n",
      "Name: product, dtype: float64\n"
     ]
    }
   ],
   "source": [
    "info(df2)"
   ]
  },
  {
   "cell_type": "markdown",
   "metadata": {},
   "source": [
    "Опа, а тут f2 очень очень коррелирует с нашим параметром итоговым, это значит, что в модели уже заложены ответы на наш вопрос, а в столбце product так вообще всего 12 уникальных значений. Посмотрим, что из этого выйдет."
   ]
  },
  {
   "cell_type": "code",
   "execution_count": 9,
   "metadata": {},
   "outputs": [
    {
     "name": "stdout",
     "output_type": "stream",
     "text": [
      "id\n",
      "['fwXo0' 'WJtFt' 'ovLUW' ... 'tKPY3' 'nmxp2' 'V9kWn']\n",
      "\n",
      "Vcm5J    2\n",
      "VF7Jo    2\n",
      "xCHr8    2\n",
      "KUPhW    2\n",
      "h4Ias    1\n",
      "        ..\n",
      "xg9hz    1\n",
      "fabBy    1\n",
      "roUzT    1\n",
      "qdu9G    1\n",
      "egNSd    1\n",
      "Name: id, Length: 99996, dtype: int64\n",
      "\n",
      "f0\n",
      "Количество уникальных значений:  100000\n",
      "count    100000.000000\n",
      "mean          0.002023\n",
      "std           1.732045\n",
      "min          -8.760004\n",
      "25%          -1.162288\n",
      "50%           0.009424\n",
      "75%           1.158535\n",
      "max           7.238262\n",
      "Name: f0, dtype: float64\n",
      "f1\n",
      "Количество уникальных значений:  100000\n",
      "count    100000.000000\n",
      "mean         -0.002081\n",
      "std           1.730417\n",
      "min          -7.084020\n",
      "25%          -1.174820\n",
      "50%          -0.009482\n",
      "75%           1.163678\n",
      "max           7.844801\n",
      "Name: f1, dtype: float64\n",
      "f2\n",
      "Количество уникальных значений:  100000\n",
      "count    100000.000000\n",
      "mean          2.495128\n",
      "std           3.473445\n",
      "min         -11.970335\n",
      "25%           0.130359\n",
      "50%           2.484236\n",
      "75%           4.858794\n",
      "max          16.739402\n",
      "Name: f2, dtype: float64\n",
      "product\n",
      "Количество уникальных значений:  100000\n",
      "count    100000.000000\n",
      "mean         95.000000\n",
      "std          44.749921\n",
      "min           0.000000\n",
      "25%          59.450441\n",
      "50%          94.925613\n",
      "75%         130.595027\n",
      "max         190.029838\n",
      "Name: product, dtype: float64\n"
     ]
    }
   ],
   "source": [
    "info(df3)"
   ]
  },
  {
   "cell_type": "code",
   "execution_count": 10,
   "metadata": {},
   "outputs": [
    {
     "data": {
      "image/png": "[encoded data removed]",
      "text/plain": [
       "<Figure size 864x360 with 6 Axes>"
      ]
     },
     "metadata": {
      "needs_background": "light"
     },
     "output_type": "display_data"
    }
   ],
   "source": [
    "#Построим тепловую карту \n",
    "fig, ax = plt.subplots(1,3, figsize=(12,5))\n",
    "for i,j in zip([df1,df2,df3],range(3)):\n",
    "    sns.heatmap(i.corr(), annot=True, fmt='.2f', ax=ax[j], square=True)\n",
    "    ax[j].set_title(str(j+1))"
   ]
  },
  {
   "cell_type": "markdown",
   "metadata": {},
   "source": [
    "Распределение у показателей странное, но явных выбросов нет,данные примерно в отдном масштабе, так что в масштабировании показателей так же нет смысла. Сильно коррелирующих признаков так же не наблюдается. Кажется, все как надо. "
   ]
  },
  {
   "cell_type": "code",
   "execution_count": 11,
   "metadata": {},
   "outputs": [],
   "source": [
    "# извлечем признаки для обучения. target - станут значения параметра product, остальные пойдут в features\n",
    "features1 = df1.drop(['product','id'], axis=1)\n",
    "target1 = df1['product']\n",
    "\n",
    "features2 = df2.drop(['product', 'id'], axis=1)\n",
    "target2 = df2['product']\n",
    "\n",
    "features3 = df3.drop(['product', 'id'], axis=1)\n",
    "target3 = df3['product']"
   ]
  },
  {
   "cell_type": "markdown",
   "metadata": {},
   "source": [
    "# 2. Обучение и проверка модели"
   ]
  },
  {
   "cell_type": "markdown",
   "metadata": {},
   "source": [
    "### Область 1"
   ]
  },
  {
   "cell_type": "code",
   "execution_count": 12,
   "metadata": {},
   "outputs": [],
   "source": [
    "#нам подходит только модель линейной регрессии, с ней мы и будем работать. Сначала раздели наши данные на обучающую и валидационную\n",
    "\n",
    "features_train1, features_valid1, target_train1, target_valid1 = train_test_split(\n",
    "    features1, target1, test_size = 0.25, random_state=12345)"
   ]
  },
  {
   "cell_type": "code",
   "execution_count": 13,
   "metadata": {},
   "outputs": [
    {
     "name": "stdout",
     "output_type": "stream",
     "text": [
      "rsq:  0.2740722841209053\n",
      "STD:  0.007444790337850218\n",
      "RMSE: 37.5794217150813\n"
     ]
    }
   ],
   "source": [
    "#найдем оптимальную для нас модель линейной регрессии\n",
    "\n",
    "# функция, чтобы получить оценки с помощью кросс валидации\n",
    "def get_cv_scores(model):\n",
    "    scores = cross_val_score(model,\n",
    "                             features_train1,\n",
    "                             target_train1,\n",
    "                             cv=10,\n",
    "                             scoring= 'r2')\n",
    "    \n",
    "    print('rsq: ', np.mean(scores))\n",
    "    print('STD: ', np.std(scores))\n",
    "\n",
    "model1 = LinearRegression(normalize = True).fit(features_train1, target_train1) \n",
    "predictions1 = pd.Series(model1.predict(features_valid1))\n",
    "get_cv_scores(model1)\n",
    "print('RMSE:', mean_squared_error(target_valid1, predictions1)**0.5)"
   ]
  },
  {
   "cell_type": "markdown",
   "metadata": {},
   "source": [
    "### Область 2"
   ]
  },
  {
   "cell_type": "code",
   "execution_count": 14,
   "metadata": {},
   "outputs": [],
   "source": [
    "#нам подходит только модель линейной регрессии, с ней мы и будем работать. Сначала раздели наши данные на обучающую и валидационную\n",
    "\n",
    "features_train2, features_valid2, target_train2, target_valid2 = train_test_split(\n",
    "    features2, target2, test_size = 0.25, random_state=12345)"
   ]
  },
  {
   "cell_type": "code",
   "execution_count": 15,
   "metadata": {},
   "outputs": [
    {
     "name": "stdout",
     "output_type": "stream",
     "text": [
      "rsq:  0.9996246530099002\n",
      "STD:  6.700771345813992e-06\n",
      "RMSE: 0.8930992867756157\n"
     ]
    }
   ],
   "source": [
    "#найдем оптимальную для нас модель линейной регрессии\n",
    "\n",
    "# функция, чтобы получить оценки с помощью кросс валидации\n",
    "def get_cv_scores(model):\n",
    "    scores = cross_val_score(model,\n",
    "                             features_train2,\n",
    "                             target_train2,\n",
    "                             cv=10,\n",
    "                             scoring= 'r2')\n",
    "    \n",
    "    print('rsq: ', np.mean(scores))\n",
    "    print('STD: ', np.std(scores))\n",
    "    \n",
    "model2 = LinearRegression(normalize = True).fit(features_train2, target_train2) \n",
    "predictions2 = pd.Series(model2.predict(features_valid2))\n",
    "get_cv_scores(model2)\n",
    "print('RMSE:', mean_squared_error(target_valid2, predictions2)**0.5)"
   ]
  },
  {
   "cell_type": "markdown",
   "metadata": {},
   "source": [
    "### Область 3"
   ]
  },
  {
   "cell_type": "code",
   "execution_count": 16,
   "metadata": {},
   "outputs": [],
   "source": [
    "features_train3, features_valid3, target_train3, target_valid3 = train_test_split(\n",
    "    features3, target3, test_size = 0.25, random_state=12345)"
   ]
  },
  {
   "cell_type": "code",
   "execution_count": 17,
   "metadata": {},
   "outputs": [
    {
     "name": "stdout",
     "output_type": "stream",
     "text": [
      "rsq:  0.1963417800482577\n",
      "STD:  0.009731293322671995\n",
      "RMSE: 40.02970873393434\n"
     ]
    }
   ],
   "source": [
    "#найдем оптимальную для нас модель линейной регрессии\n",
    "\n",
    "# функция, чтобы получить оценки с помощью кросс валидации\n",
    "def get_cv_scores(model):\n",
    "    scores = cross_val_score(model,\n",
    "                             features_train3,\n",
    "                             target_train3,\n",
    "                             cv=10,\n",
    "                             scoring= 'r2')\n",
    "    \n",
    "    print('rsq: ', np.mean(scores))\n",
    "    print('STD: ', np.std(scores))\n",
    "    \n",
    "model3 = LinearRegression(normalize = True).fit(features_train3, target_train3) \n",
    "predictions3 = pd.Series(model3.predict(features_valid3))\n",
    "get_cv_scores(model3)\n",
    "print('RMSE:', mean_squared_error(target_valid3, predictions3)**0.5)"
   ]
  },
  {
   "cell_type": "markdown",
   "metadata": {},
   "source": [
    "<li>Посмотрим на результаты, которые мы получили у моделей:</li>\n",
    "<Br><br>\n",
    "<table width=500 style=\"margin-top:10px; margin-left:10px;\">\n",
    "    <tr><td></td>\n",
    "        <td>RMSE</td>\n",
    "        <td>SCORE</td>\n",
    "    </tr>\n",
    "    <tr><td>Регион №1</td>\n",
    "        <td>37.6</td>\n",
    "        <td>0.27</td>\n",
    "    </tr>\n",
    "    <tr><td>Регион №2</td>\n",
    "        <td>0.89</td>\n",
    "        <td>0.99</td>\n",
    "    </tr>\n",
    "    <tr><td>Регион №3</td>\n",
    "        <td>40.03</td>\n",
    "        <td>0.20</td>\n",
    "    </tr>\n",
    "</table>\n",
    "<br><br>\n",
    "\n",
    "<li>Модели первого региона и третьего показывают очень плохие результаты. Не стоит использовать их для выбора скважины в регионе.</li>\n",
    "<li>Модель второго региона показала очень хорошие результаты, однако у целевой переменной всего лишь 12 уникальных значений из 100 000, поэтому моделе было легко спрогнозировать правильные ответы. Вторую модель также опасно использовать.</li>"
   ]
  },
  {
   "cell_type": "markdown",
   "metadata": {},
   "source": [
    "# 3. Подготовка к расчёту прибыли"
   ]
  },
  {
   "cell_type": "markdown",
   "metadata": {},
   "source": [
    "Для начала посчитаем точку безубыточности. Так как бюджеты одинаковые, ода будет едина для всех трех областей. Все вычисления в тысячах. "
   ]
  },
  {
   "cell_type": "code",
   "execution_count": 18,
   "metadata": {},
   "outputs": [],
   "source": [
    "#добавим необходимые переменные \n",
    "capex_all = 10000000 #в тысячах рублей\n",
    "n= 200 #количество скважин\n",
    "capex = capex_all/n #бюджет на одну скважину \n",
    "rev_from_1 = 450 #в тысячах рублей "
   ]
  },
  {
   "cell_type": "code",
   "execution_count": 19,
   "metadata": {},
   "outputs": [
    {
     "name": "stdout",
     "output_type": "stream",
     "text": [
      "Достаточный объём сырья для безубыточной разработки новой скважины: 111.11 тыс баррелей\n"
     ]
    }
   ],
   "source": [
    "#посчитаем необходимые объемы для точки безубыточности одной скважины\n",
    "\n",
    "product_min = capex/rev_from_1\n",
    "print('Достаточный объём сырья для безубыточной разработки новой скважины: {0:.2f} тыс баррелей'.format(product_min))"
   ]
  },
  {
   "cell_type": "code",
   "execution_count": 20,
   "metadata": {},
   "outputs": [
    {
     "name": "stdout",
     "output_type": "stream",
     "text": [
      "Средние запасы в регионе 1: 92.50\n",
      "Средние запасы в регионе 2: 68.83\n",
      "Средние запасы в регионе 3: 95.00\n"
     ]
    }
   ],
   "source": [
    "#найдем средние запасы по регионам \n",
    "\n",
    "print('Средние запасы в регионе 1: {0:.2f}'.format(df1['product'].sum()/len(df1)))\n",
    "print('Средние запасы в регионе 2: {0:.2f}'.format(df2['product'].sum()/len(df2)))\n",
    "print('Средние запасы в регионе 3: {0:.2f}'.format(df3['product'].sum()/len(df3)))"
   ]
  },
  {
   "cell_type": "markdown",
   "metadata": {},
   "source": [
    "Выходит, что в каждом регионе в среднем запасы ниже необходимых для скважины в среднем, поэтому гипотеза о том, что не важно, в какой точке ставить новую скважину, неверна, давайте попробуем посчитать среднее для наилучших 200 точек. "
   ]
  },
  {
   "cell_type": "code",
   "execution_count": 21,
   "metadata": {},
   "outputs": [
    {
     "name": "stdout",
     "output_type": "stream",
     "text": [
      "Средние запасы в регионе 1: 184.83\n",
      "Средние запасы в регионе 2: 137.95\n",
      "Средние запасы в регионе 3: 189.55\n"
     ]
    }
   ],
   "source": [
    "print('Средние запасы в регионе 1: {0:.2f}'.format(df1['product'].nlargest(200).sum()/200))\n",
    "print('Средние запасы в регионе 2: {0:.2f}'.format(df2['product'].nlargest(200).sum()/200))\n",
    "print('Средние запасы в регионе 3: {0:.2f}'.format(df3['product'].nlargest(200).sum()/200))"
   ]
  },
  {
   "cell_type": "code",
   "execution_count": 22,
   "metadata": {},
   "outputs": [
    {
     "name": "stdout",
     "output_type": "stream",
     "text": [
      "Средние запасы в регионе 1: 184.11\n",
      "Средние запасы в регионе 2: 137.95\n",
      "Средние запасы в регионе 3: 188.86\n"
     ]
    }
   ],
   "source": [
    "print('Средние запасы в регионе 1: {0:.2f}'.format(df1['product'].nlargest(500).sum()/500))\n",
    "print('Средние запасы в регионе 2: {0:.2f}'.format(df2['product'].nlargest(500).sum()/500))\n",
    "print('Средние запасы в регионе 3: {0:.2f}'.format(df3['product'].nlargest(500).sum()/500))"
   ]
  },
  {
   "cell_type": "markdown",
   "metadata": {},
   "source": [
    "Если выбрать самые лучшие показатели точек и построить там скважины, то в среднем скважины должны окупиться."
   ]
  },
  {
   "cell_type": "code",
   "execution_count": 23,
   "metadata": {},
   "outputs": [
    {
     "name": "stdout",
     "output_type": "stream",
     "text": [
      "Прибыль первого региона : 3.32 млрд рублей\n",
      "Прибыль второго региона : 2.42 млрд рублей\n",
      "Прибыль третьего региона : 2.71 млрд рублей\n"
     ]
    }
   ],
   "source": [
    "#давайте напишем функцию расчета прибыли одной скважины \n",
    "target_valid1 = target_valid1.reset_index(drop=True)\n",
    "target_valid2 = target_valid2.reset_index(drop=True)\n",
    "target_valid3 = target_valid3.reset_index(drop=True)\n",
    "\n",
    "def revenue(target, probabilities, count):\n",
    "    probs_sorted = probabilities.sort_values(ascending=False)\n",
    "    selected = target[probs_sorted.index][:count]\n",
    "    return(rev_from_1*selected.sum()-capex_all)\n",
    "    \n",
    "#проверим\n",
    "\n",
    "print('Прибыль первого региона : {:.2f} млрд рублей'.format(revenue(target_valid1, predictions1,n)/10**6))\n",
    "print('Прибыль второго региона : {:.2f} млрд рублей'.format(revenue(target_valid2, predictions2,n)/10**6))\n",
    "print('Прибыль третьего региона : {:.2f} млрд рублей'.format(revenue(target_valid3, predictions3,n)/10**6))"
   ]
  },
  {
   "cell_type": "markdown",
   "metadata": {},
   "source": [
    "# 4. Расчёт прибыли и рисков "
   ]
  },
  {
   "cell_type": "code",
   "execution_count": 24,
   "metadata": {},
   "outputs": [
    {
     "name": "stdout",
     "output_type": "stream",
     "text": [
      "Средняя прибыль: 0.4279755438339312\n",
      "Риск: 6.5\n",
      "95% доверительный интервал:  (-115594.37092572343, 965730.4607229889)\n"
     ]
    }
   ],
   "source": [
    "#Техникой bootstrap посчитаем среднюю прибыль , 95% доверительный интервал и риск убытков для первого региона\n",
    "revenues = []\n",
    "final_revenues = []\n",
    "\n",
    "for i in range(1000):\n",
    "    target_subsample = target_valid1.sample(n=500,replace=True)\n",
    "    probs_subsample = predictions1[target_subsample.index]\n",
    "    revenues.append(revenue(target_subsample, probs_subsample, 200))\n",
    "\n",
    "revenues = pd.Series(revenues)\n",
    "mean = revenues.mean()\n",
    "risks = (revenues < 0).mean()* 100\n",
    "print(\"Средняя прибыль:\", mean/10**6)\n",
    "print(\"Риск: {}\".format(risks))\n",
    "confidence_interval = (revenues.quantile(0.025), revenues.quantile(0.975))\n",
    "print('95% доверительный интервал: ', confidence_interval)\n",
    "final_revenues.append(('Регион 1', mean/10**6, confidence_interval, risks))"
   ]
  },
  {
   "cell_type": "code",
   "execution_count": 25,
   "metadata": {},
   "outputs": [
    {
     "name": "stdout",
     "output_type": "stream",
     "text": [
      "Средняя прибыль: 0.5010010303929433\n",
      "Риск: 0.8\n",
      "95% доверительный интервал:  (81036.40274292658, 935033.8919050891)\n"
     ]
    }
   ],
   "source": [
    "#Техникой bootstrap посчитаем среднюю прибыль , 95% доверительный интервал и риск убытков для второго региона\n",
    "revenues = []\n",
    "\n",
    "for i in range(1000):\n",
    "    target_subsample = target_valid2.sample(n=500,replace=True)\n",
    "    probs_subsample = predictions2[target_subsample.index]\n",
    "    revenues.append(revenue(target_subsample, probs_subsample, 200))\n",
    "\n",
    "revenues = pd.Series(revenues)\n",
    "mean = revenues.mean()\n",
    "risks = (revenues < 0).mean()* 100\n",
    "print(\"Средняя прибыль:\", mean/10**6)\n",
    "print(\"Риск: {}\".format(risks))\n",
    "confidence_interval = (revenues.quantile(0.025), revenues.quantile(0.975))\n",
    "print('95% доверительный интервал: ', confidence_interval)\n",
    "final_revenues.append(('Регион 2', mean/10**6, confidence_interval, risks))"
   ]
  },
  {
   "cell_type": "code",
   "execution_count": 26,
   "metadata": {},
   "outputs": [
    {
     "name": "stdout",
     "output_type": "stream",
     "text": [
      "Средняя прибыль: 0.4458853589255465\n",
      "Риск: 5.7\n",
      "95% доверительный интервал:  (-119272.46264014607, 961951.3491873008)\n"
     ]
    }
   ],
   "source": [
    "#Техникой bootstrap посчитаем среднюю прибыль , 95% доверительный интервал и риск убытков для третьего региона\n",
    "revenues = []\n",
    "\n",
    "for i in range(1000):\n",
    "    target_subsample = target_valid3.sample(n=500,replace=True)\n",
    "    probs_subsample = predictions3[target_subsample.index]\n",
    "    revenues.append(revenue(target_subsample, probs_subsample, 200))\n",
    "\n",
    "revenues = pd.Series(revenues)\n",
    "mean = revenues.mean()\n",
    "risks = (revenues < 0).mean()* 100\n",
    "print(\"Средняя прибыль:\", mean/10**6)\n",
    "print(\"Риск: {}\".format(risks))\n",
    "confidence_interval = (revenues.quantile(0.025), revenues.quantile(0.975))\n",
    "print('95% доверительный интервал: ', confidence_interval)\n",
    "final_revenues.append(('Регион 3', mean/10**6, confidence_interval, risks))"
   ]
  },
  {
   "cell_type": "code",
   "execution_count": 27,
   "metadata": {},
   "outputs": [
    {
     "data": {
      "text/html": [
       "<style  type=\"text/css\" >\n",
       "#T_86ff7690_3301_11ec_990e_acbc327a2e07row0_col1,#T_86ff7690_3301_11ec_990e_acbc327a2e07row1_col3{\n",
       "            background-color:  #f3f0f0;\n",
       "            color:  #000000;\n",
       "        }#T_86ff7690_3301_11ec_990e_acbc327a2e07row0_col3,#T_86ff7690_3301_11ec_990e_acbc327a2e07row1_col1{\n",
       "            background-color:  #ff0000;\n",
       "            color:  #f1f1f1;\n",
       "        }#T_86ff7690_3301_11ec_990e_acbc327a2e07row2_col1{\n",
       "            background-color:  #f6b6b6;\n",
       "            color:  #000000;\n",
       "        }#T_86ff7690_3301_11ec_990e_acbc327a2e07row2_col3{\n",
       "            background-color:  #fd2121;\n",
       "            color:  #f1f1f1;\n",
       "        }</style><table id=\"T_86ff7690_3301_11ec_990e_acbc327a2e07\" ><thead>    <tr>        <th class=\"blank level0\" ></th>        <th class=\"col_heading level0 col0\" >Регион</th>        <th class=\"col_heading level0 col1\" >Средняя прибыль</th>        <th class=\"col_heading level0 col2\" >95% интервал</th>        <th class=\"col_heading level0 col3\" >Риск, %</th>    </tr></thead><tbody>\n",
       "                <tr>\n",
       "                        <th id=\"T_86ff7690_3301_11ec_990e_acbc327a2e07level0_row0\" class=\"row_heading level0 row0\" >0</th>\n",
       "                        <td id=\"T_86ff7690_3301_11ec_990e_acbc327a2e07row0_col0\" class=\"data row0 col0\" >Регион 1</td>\n",
       "                        <td id=\"T_86ff7690_3301_11ec_990e_acbc327a2e07row0_col1\" class=\"data row0 col1\" >0.427976</td>\n",
       "                        <td id=\"T_86ff7690_3301_11ec_990e_acbc327a2e07row0_col2\" class=\"data row0 col2\" >(-115594.37092572343, 965730.4607229889)</td>\n",
       "                        <td id=\"T_86ff7690_3301_11ec_990e_acbc327a2e07row0_col3\" class=\"data row0 col3\" >6.500000</td>\n",
       "            </tr>\n",
       "            <tr>\n",
       "                        <th id=\"T_86ff7690_3301_11ec_990e_acbc327a2e07level0_row1\" class=\"row_heading level0 row1\" >1</th>\n",
       "                        <td id=\"T_86ff7690_3301_11ec_990e_acbc327a2e07row1_col0\" class=\"data row1 col0\" >Регион 2</td>\n",
       "                        <td id=\"T_86ff7690_3301_11ec_990e_acbc327a2e07row1_col1\" class=\"data row1 col1\" >0.501001</td>\n",
       "                        <td id=\"T_86ff7690_3301_11ec_990e_acbc327a2e07row1_col2\" class=\"data row1 col2\" >(81036.40274292658, 935033.8919050891)</td>\n",
       "                        <td id=\"T_86ff7690_3301_11ec_990e_acbc327a2e07row1_col3\" class=\"data row1 col3\" >0.800000</td>\n",
       "            </tr>\n",
       "            <tr>\n",
       "                        <th id=\"T_86ff7690_3301_11ec_990e_acbc327a2e07level0_row2\" class=\"row_heading level0 row2\" >2</th>\n",
       "                        <td id=\"T_86ff7690_3301_11ec_990e_acbc327a2e07row2_col0\" class=\"data row2 col0\" >Регион 3</td>\n",
       "                        <td id=\"T_86ff7690_3301_11ec_990e_acbc327a2e07row2_col1\" class=\"data row2 col1\" >0.445885</td>\n",
       "                        <td id=\"T_86ff7690_3301_11ec_990e_acbc327a2e07row2_col2\" class=\"data row2 col2\" >(-119272.46264014607, 961951.3491873008)</td>\n",
       "                        <td id=\"T_86ff7690_3301_11ec_990e_acbc327a2e07row2_col3\" class=\"data row2 col3\" >5.700000</td>\n",
       "            </tr>\n",
       "    </tbody></table>"
      ],
      "text/plain": [
       "<pandas.io.formats.style.Styler at 0x7f9b3f5bb730>"
      ]
     },
     "execution_count": 27,
     "metadata": {},
     "output_type": "execute_result"
    }
   ],
   "source": [
    "#Выведем все результаты в одной таблице для сравнения\n",
    "report_df = pd.DataFrame(final_revenues, columns=['Регион', 'Средняя прибыль', '95% интервал', 'Риск, %'])\n",
    "cm = sns.light_palette(\"red\", as_cmap=True)\n",
    "table = report_df.style.background_gradient(cmap=cm)\n",
    "table"
   ]
  },
  {
   "cell_type": "markdown",
   "metadata": {},
   "source": [
    "### Вывод: \n",
    "- Второй регион показывает хорошие результаты. Но так как мы знаем, что второй регион рискованный, поскольку у него странные данные, мы не можем его выбрать.\n",
    "- Для бурения будет лучше выбрать первый регион. Но учитывая оценки моделей, можно сказать, что мы выбирали из плохой скважины и очень плохой, поэтому лучше разработать еще новых скважин."
   ]
  }
 ],
 "metadata": {
  "ExecuteTimeLog": [
   {
    "duration": 1984,
    "start_time": "2021-10-21T13:25:55.534Z"
   },
   {
    "duration": 488,
    "start_time": "2021-10-21T13:25:57.520Z"
   },
   {
    "duration": 28,
    "start_time": "2021-10-21T13:25:58.202Z"
   },
   {
    "duration": 23,
    "start_time": "2021-10-21T13:25:59.033Z"
   },
   {
    "duration": 24,
    "start_time": "2021-10-21T13:25:59.683Z"
   },
   {
    "duration": 14,
    "start_time": "2021-10-21T13:26:00.365Z"
   },
   {
    "duration": 17,
    "start_time": "2021-10-21T13:26:29.004Z"
   },
   {
    "duration": 16,
    "start_time": "2021-10-21T13:26:29.698Z"
   },
   {
    "duration": 17,
    "start_time": "2021-10-21T13:26:30.347Z"
   },
   {
    "duration": 471,
    "start_time": "2021-10-21T13:26:31.108Z"
   }
  ],
  "kernelspec": {
   "display_name": "Python 3",
   "language": "python",
   "name": "python3"
  },
  "language_info": {
   "codemirror_mode": {
    "name": "ipython",
    "version": 3
   },
   "file_extension": ".py",
   "mimetype": "text/x-python",
   "name": "python",
   "nbconvert_exporter": "python",
   "pygments_lexer": "ipython3",
   "version": "3.8.3"
  },
  "toc": {
   "base_numbering": 1,
   "nav_menu": {},
   "number_sections": true,
   "sideBar": true,
   "skip_h1_title": true,
   "title_cell": "Table of Contents",
   "title_sidebar": "Contents",
   "toc_cell": false,
   "toc_position": {},
   "toc_section_display": true,
   "toc_window_display": false
  }
 },
 "nbformat": 4,
 "nbformat_minor": 2
}
