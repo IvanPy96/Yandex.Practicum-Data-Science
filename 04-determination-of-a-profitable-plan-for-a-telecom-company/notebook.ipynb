{
 "cells": [
  {
   "cell_type": "markdown",
   "metadata": {},
   "source": [
    "# Определение перспективного тарифа для телеком компании"
   ]
  },
  {
   "cell_type": "markdown",
   "metadata": {},
   "source": [
    "## Введение"
   ]
  },
  {
   "cell_type": "markdown",
   "metadata": {},
   "source": [
    "Предстоит сделать предварительный анализ тарифов на небольшой выборке клиентов. В нашем распоряжении данные 500 пользователей «Мегалайна»: кто они, откуда, каким тарифом пользуются, сколько звонков и сообщений каждый отправил за 2018 год. Нужно проанализировать поведение клиентов и сделать вывод — какой тариф лучше."
   ]
  },
  {
   "cell_type": "markdown",
   "metadata": {},
   "source": [
    "Краткий план: \n",
    "---\n",
    "- Шаг 1. Открыть файл с данными и изучить общую информацию.\n",
    "- Шаг 2. Подготовить данные. Найти и исправить ошибки.\n",
    "- Шаг 3. Описать поведение клиентов оператора, исходя из выборки. Рассчитать, сколько минут разговора, сколько сообщений и какой объём интернет-трафика требуется пользователям каждого тарифа в месяц. Посчитать среднее количество, дисперсию и стандартное отклонение. Построить гистограммы. Описать распределения.\n",
    "- Шаг 4. Проверить две гипотезы относительно данных.\n",
    "- Шаг 5. Сделать обший вывод.\n"
   ]
  },
  {
   "cell_type": "markdown",
   "metadata": {},
   "source": [
    "Описание данных:\n",
    "---\n",
    "Таблица users (информация о пользователях):\n",
    "- user_id — уникальный идентификатор пользователя\n",
    "- first_name — имя пользователя\n",
    "- last_name — фамилия пользователя\n",
    "- age — возраст пользователя (годы)\n",
    "- reg_date — дата подключения тарифа (день, месяц, год)\n",
    "- churn_date — дата прекращения пользования тарифом (если значение пропущено, то тариф ещё действовал на момент выгрузки данных)\n",
    "- city — город проживания пользователя\n",
    "- tariff — название тарифного плана\n",
    "--- \n",
    "Таблица calls (информация о звонках):\n",
    "- id — уникальный номер звонка\n",
    "- call_date — дата звонка\n",
    "- duration — длительность звонка в минутах\n",
    "- user_id — идентификатор пользователя, сделавшего звонок\n",
    "---\n",
    "Таблица messages (информация о сообщениях):\n",
    "- id — уникальный номер сообщения\n",
    "- message_date — дата сообщения\n",
    "- user_id — идентификатор пользователя, отправившего сообщение\n",
    "---\n",
    "Таблица internet (информация об интернет-сессиях):\n",
    "- id — уникальный номер сессии\n",
    "- mb_used — объём потраченного за сессию интернет-трафика (в мегабайтах)\n",
    "- session_date — дата интернет-сессии\n",
    "- user_id — идентификатор пользователя\n",
    "- Таблица tariffs (информация о тарифах):\n",
    "- tariff_name — название тарифа\n",
    "- rub_monthly_fee — ежемесячная абонентская плата в рублях\n",
    "- minutes_included — количество минут разговора в месяц, включённых в абонентскую плату\n",
    "- messages_included — количество сообщений в месяц, включённых в абонентскую плату\n",
    "- mb_per_month_included — объём интернет-трафика, включённого в абонентскую плату (в мегабайтах)\n",
    "- rub_per_minute — стоимость минуты разговора сверх тарифного пакета (например, если в тарифе 100 минут разговора в месяц, то со 101 минуты будет взиматься плата)\n",
    "- rub_per_message — стоимость отправки сообщения сверх тарифного пакета\n",
    "- rub_per_gb — стоимость дополнительного гигабайта интернет-трафика сверх тарифного пакета (1 гигабайт = 1024 мегабайта)"
   ]
  },
  {
   "cell_type": "markdown",
   "metadata": {},
   "source": [
    "## Ознакомление с данными"
   ]
  },
  {
   "cell_type": "markdown",
   "metadata": {},
   "source": [
    "#### Подключаем необходимые для предобработки и анализа библиотеки"
   ]
  },
  {
   "cell_type": "code",
   "execution_count": 49,
   "metadata": {},
   "outputs": [],
   "source": [
    "import pandas as pd # для работы с DataFrame\n",
    "import numpy as np # для работы с масссивами\n",
    "import math # для математических операций\n",
    "import datetime # для работы с датами\n",
    "from matplotlib import pyplot as plt # для построения диаграмм и графиков\n",
    "import scipy # для использования статистических инструментов"
   ]
  },
  {
   "cell_type": "markdown",
   "metadata": {},
   "source": [
    "#### Проводим первичный анализ поступивших данных"
   ]
  },
  {
   "cell_type": "code",
   "execution_count": 50,
   "metadata": {},
   "outputs": [
    {
     "name": "stdout",
     "output_type": "stream",
     "text": [
      "<class 'pandas.core.frame.DataFrame'>\n",
      "RangeIndex: 202607 entries, 0 to 202606\n",
      "Data columns (total 4 columns):\n",
      "id           202607 non-null object\n",
      "call_date    202607 non-null object\n",
      "duration     202607 non-null float64\n",
      "user_id      202607 non-null int64\n",
      "dtypes: float64(1), int64(1), object(2)\n",
      "memory usage: 6.2+ MB\n"
     ]
    },
    {
     "data": {
      "text/html": [
       "<div>\n",
       "<style scoped>\n",
       "    .dataframe tbody tr th:only-of-type {\n",
       "        vertical-align: middle;\n",
       "    }\n",
       "\n",
       "    .dataframe tbody tr th {\n",
       "        vertical-align: top;\n",
       "    }\n",
       "\n",
       "    .dataframe thead th {\n",
       "        text-align: right;\n",
       "    }\n",
       "</style>\n",
       "<table border=\"1\" class=\"dataframe\">\n",
       "  <thead>\n",
       "    <tr style=\"text-align: right;\">\n",
       "      <th></th>\n",
       "      <th>id</th>\n",
       "      <th>call_date</th>\n",
       "      <th>duration</th>\n",
       "      <th>user_id</th>\n",
       "    </tr>\n",
       "  </thead>\n",
       "  <tbody>\n",
       "    <tr>\n",
       "      <td>0</td>\n",
       "      <td>1000_0</td>\n",
       "      <td>2018-07-25</td>\n",
       "      <td>0.00</td>\n",
       "      <td>1000</td>\n",
       "    </tr>\n",
       "    <tr>\n",
       "      <td>1</td>\n",
       "      <td>1000_1</td>\n",
       "      <td>2018-08-17</td>\n",
       "      <td>0.00</td>\n",
       "      <td>1000</td>\n",
       "    </tr>\n",
       "    <tr>\n",
       "      <td>2</td>\n",
       "      <td>1000_2</td>\n",
       "      <td>2018-06-11</td>\n",
       "      <td>2.85</td>\n",
       "      <td>1000</td>\n",
       "    </tr>\n",
       "    <tr>\n",
       "      <td>3</td>\n",
       "      <td>1000_3</td>\n",
       "      <td>2018-09-21</td>\n",
       "      <td>13.80</td>\n",
       "      <td>1000</td>\n",
       "    </tr>\n",
       "    <tr>\n",
       "      <td>4</td>\n",
       "      <td>1000_4</td>\n",
       "      <td>2018-12-15</td>\n",
       "      <td>5.18</td>\n",
       "      <td>1000</td>\n",
       "    </tr>\n",
       "  </tbody>\n",
       "</table>\n",
       "</div>"
      ],
      "text/plain": [
       "       id   call_date  duration  user_id\n",
       "0  1000_0  2018-07-25      0.00     1000\n",
       "1  1000_1  2018-08-17      0.00     1000\n",
       "2  1000_2  2018-06-11      2.85     1000\n",
       "3  1000_3  2018-09-21     13.80     1000\n",
       "4  1000_4  2018-12-15      5.18     1000"
      ]
     },
     "execution_count": 50,
     "metadata": {},
     "output_type": "execute_result"
    }
   ],
   "source": [
    "df_calls = pd.read_csv('/datasets/calls.csv') # анализируем звонки\n",
    "df_calls.info()\n",
    "df_calls.head()"
   ]
  },
  {
   "cell_type": "code",
   "execution_count": 51,
   "metadata": {},
   "outputs": [
    {
     "name": "stdout",
     "output_type": "stream",
     "text": [
      "<class 'pandas.core.frame.DataFrame'>\n",
      "RangeIndex: 149396 entries, 0 to 149395\n",
      "Data columns (total 4 columns):\n",
      "id              149396 non-null object\n",
      "mb_used         149396 non-null float64\n",
      "session_date    149396 non-null object\n",
      "user_id         149396 non-null int64\n",
      "dtypes: float64(1), int64(1), object(2)\n",
      "memory usage: 4.6+ MB\n"
     ]
    },
    {
     "data": {
      "text/html": [
       "<div>\n",
       "<style scoped>\n",
       "    .dataframe tbody tr th:only-of-type {\n",
       "        vertical-align: middle;\n",
       "    }\n",
       "\n",
       "    .dataframe tbody tr th {\n",
       "        vertical-align: top;\n",
       "    }\n",
       "\n",
       "    .dataframe thead th {\n",
       "        text-align: right;\n",
       "    }\n",
       "</style>\n",
       "<table border=\"1\" class=\"dataframe\">\n",
       "  <thead>\n",
       "    <tr style=\"text-align: right;\">\n",
       "      <th></th>\n",
       "      <th>id</th>\n",
       "      <th>mb_used</th>\n",
       "      <th>session_date</th>\n",
       "      <th>user_id</th>\n",
       "    </tr>\n",
       "  </thead>\n",
       "  <tbody>\n",
       "    <tr>\n",
       "      <td>0</td>\n",
       "      <td>1000_0</td>\n",
       "      <td>112.95</td>\n",
       "      <td>2018-11-25</td>\n",
       "      <td>1000</td>\n",
       "    </tr>\n",
       "    <tr>\n",
       "      <td>1</td>\n",
       "      <td>1000_1</td>\n",
       "      <td>1052.81</td>\n",
       "      <td>2018-09-07</td>\n",
       "      <td>1000</td>\n",
       "    </tr>\n",
       "    <tr>\n",
       "      <td>2</td>\n",
       "      <td>1000_2</td>\n",
       "      <td>1197.26</td>\n",
       "      <td>2018-06-25</td>\n",
       "      <td>1000</td>\n",
       "    </tr>\n",
       "    <tr>\n",
       "      <td>3</td>\n",
       "      <td>1000_3</td>\n",
       "      <td>550.27</td>\n",
       "      <td>2018-08-22</td>\n",
       "      <td>1000</td>\n",
       "    </tr>\n",
       "    <tr>\n",
       "      <td>4</td>\n",
       "      <td>1000_4</td>\n",
       "      <td>302.56</td>\n",
       "      <td>2018-09-24</td>\n",
       "      <td>1000</td>\n",
       "    </tr>\n",
       "  </tbody>\n",
       "</table>\n",
       "</div>"
      ],
      "text/plain": [
       "       id  mb_used session_date  user_id\n",
       "0  1000_0   112.95   2018-11-25     1000\n",
       "1  1000_1  1052.81   2018-09-07     1000\n",
       "2  1000_2  1197.26   2018-06-25     1000\n",
       "3  1000_3   550.27   2018-08-22     1000\n",
       "4  1000_4   302.56   2018-09-24     1000"
      ]
     },
     "execution_count": 51,
     "metadata": {},
     "output_type": "execute_result"
    }
   ],
   "source": [
    "df_internet = pd.read_csv('/datasets/internet.csv') # анализируем интернет\n",
    "df_internet.info()\n",
    "df_internet.head()"
   ]
  },
  {
   "cell_type": "code",
   "execution_count": 52,
   "metadata": {},
   "outputs": [
    {
     "name": "stdout",
     "output_type": "stream",
     "text": [
      "<class 'pandas.core.frame.DataFrame'>\n",
      "RangeIndex: 123036 entries, 0 to 123035\n",
      "Data columns (total 3 columns):\n",
      "id              123036 non-null object\n",
      "message_date    123036 non-null object\n",
      "user_id         123036 non-null int64\n",
      "dtypes: int64(1), object(2)\n",
      "memory usage: 2.8+ MB\n"
     ]
    },
    {
     "data": {
      "text/html": [
       "<div>\n",
       "<style scoped>\n",
       "    .dataframe tbody tr th:only-of-type {\n",
       "        vertical-align: middle;\n",
       "    }\n",
       "\n",
       "    .dataframe tbody tr th {\n",
       "        vertical-align: top;\n",
       "    }\n",
       "\n",
       "    .dataframe thead th {\n",
       "        text-align: right;\n",
       "    }\n",
       "</style>\n",
       "<table border=\"1\" class=\"dataframe\">\n",
       "  <thead>\n",
       "    <tr style=\"text-align: right;\">\n",
       "      <th></th>\n",
       "      <th>id</th>\n",
       "      <th>message_date</th>\n",
       "      <th>user_id</th>\n",
       "    </tr>\n",
       "  </thead>\n",
       "  <tbody>\n",
       "    <tr>\n",
       "      <td>0</td>\n",
       "      <td>1000_0</td>\n",
       "      <td>2018-06-27</td>\n",
       "      <td>1000</td>\n",
       "    </tr>\n",
       "    <tr>\n",
       "      <td>1</td>\n",
       "      <td>1000_1</td>\n",
       "      <td>2018-10-08</td>\n",
       "      <td>1000</td>\n",
       "    </tr>\n",
       "    <tr>\n",
       "      <td>2</td>\n",
       "      <td>1000_2</td>\n",
       "      <td>2018-08-04</td>\n",
       "      <td>1000</td>\n",
       "    </tr>\n",
       "    <tr>\n",
       "      <td>3</td>\n",
       "      <td>1000_3</td>\n",
       "      <td>2018-06-16</td>\n",
       "      <td>1000</td>\n",
       "    </tr>\n",
       "    <tr>\n",
       "      <td>4</td>\n",
       "      <td>1000_4</td>\n",
       "      <td>2018-12-05</td>\n",
       "      <td>1000</td>\n",
       "    </tr>\n",
       "  </tbody>\n",
       "</table>\n",
       "</div>"
      ],
      "text/plain": [
       "       id message_date  user_id\n",
       "0  1000_0   2018-06-27     1000\n",
       "1  1000_1   2018-10-08     1000\n",
       "2  1000_2   2018-08-04     1000\n",
       "3  1000_3   2018-06-16     1000\n",
       "4  1000_4   2018-12-05     1000"
      ]
     },
     "execution_count": 52,
     "metadata": {},
     "output_type": "execute_result"
    }
   ],
   "source": [
    "df_messages = pd.read_csv('/datasets/messages.csv') # анализируем сообщения\n",
    "df_messages.info()\n",
    "df_messages.head()"
   ]
  },
  {
   "cell_type": "code",
   "execution_count": 53,
   "metadata": {},
   "outputs": [
    {
     "name": "stdout",
     "output_type": "stream",
     "text": [
      "<class 'pandas.core.frame.DataFrame'>\n",
      "RangeIndex: 2 entries, 0 to 1\n",
      "Data columns (total 8 columns):\n",
      "messages_included        2 non-null int64\n",
      "mg_per_month_included    2 non-null int64\n",
      "minutes_included         2 non-null int64\n",
      "rub_monthly_fee          2 non-null int64\n",
      "rub_per_gb               2 non-null int64\n",
      "rub_per_message          2 non-null int64\n",
      "rub_per_minute           2 non-null int64\n",
      "tariff_name              2 non-null object\n",
      "dtypes: int64(7), object(1)\n",
      "memory usage: 256.0+ bytes\n"
     ]
    },
    {
     "data": {
      "text/html": [
       "<div>\n",
       "<style scoped>\n",
       "    .dataframe tbody tr th:only-of-type {\n",
       "        vertical-align: middle;\n",
       "    }\n",
       "\n",
       "    .dataframe tbody tr th {\n",
       "        vertical-align: top;\n",
       "    }\n",
       "\n",
       "    .dataframe thead th {\n",
       "        text-align: right;\n",
       "    }\n",
       "</style>\n",
       "<table border=\"1\" class=\"dataframe\">\n",
       "  <thead>\n",
       "    <tr style=\"text-align: right;\">\n",
       "      <th></th>\n",
       "      <th>messages_included</th>\n",
       "      <th>mg_per_month_included</th>\n",
       "      <th>minutes_included</th>\n",
       "      <th>rub_monthly_fee</th>\n",
       "      <th>rub_per_gb</th>\n",
       "      <th>rub_per_message</th>\n",
       "      <th>rub_per_minute</th>\n",
       "      <th>tariff_name</th>\n",
       "    </tr>\n",
       "  </thead>\n",
       "  <tbody>\n",
       "    <tr>\n",
       "      <td>0</td>\n",
       "      <td>50</td>\n",
       "      <td>15360</td>\n",
       "      <td>500</td>\n",
       "      <td>550</td>\n",
       "      <td>200</td>\n",
       "      <td>3</td>\n",
       "      <td>3</td>\n",
       "      <td>smart</td>\n",
       "    </tr>\n",
       "    <tr>\n",
       "      <td>1</td>\n",
       "      <td>1000</td>\n",
       "      <td>30720</td>\n",
       "      <td>3000</td>\n",
       "      <td>1950</td>\n",
       "      <td>150</td>\n",
       "      <td>1</td>\n",
       "      <td>1</td>\n",
       "      <td>ultra</td>\n",
       "    </tr>\n",
       "  </tbody>\n",
       "</table>\n",
       "</div>"
      ],
      "text/plain": [
       "   messages_included  mg_per_month_included  minutes_included  \\\n",
       "0                 50                  15360               500   \n",
       "1               1000                  30720              3000   \n",
       "\n",
       "   rub_monthly_fee  rub_per_gb  rub_per_message  rub_per_minute tariff_name  \n",
       "0              550         200                3               3       smart  \n",
       "1             1950         150                1               1       ultra  "
      ]
     },
     "execution_count": 53,
     "metadata": {},
     "output_type": "execute_result"
    }
   ],
   "source": [
    "df_tariffs = pd.read_csv('/datasets/tariffs.csv') # анализируем тарифы\n",
    "df_tariffs.info()\n",
    "df_tariffs.head()"
   ]
  },
  {
   "cell_type": "code",
   "execution_count": 54,
   "metadata": {},
   "outputs": [
    {
     "name": "stdout",
     "output_type": "stream",
     "text": [
      "<class 'pandas.core.frame.DataFrame'>\n",
      "RangeIndex: 500 entries, 0 to 499\n",
      "Data columns (total 8 columns):\n",
      "user_id       500 non-null int64\n",
      "age           500 non-null int64\n",
      "churn_date    38 non-null object\n",
      "city          500 non-null object\n",
      "first_name    500 non-null object\n",
      "last_name     500 non-null object\n",
      "reg_date      500 non-null object\n",
      "tariff        500 non-null object\n",
      "dtypes: int64(2), object(6)\n",
      "memory usage: 31.4+ KB\n"
     ]
    },
    {
     "data": {
      "text/html": [
       "<div>\n",
       "<style scoped>\n",
       "    .dataframe tbody tr th:only-of-type {\n",
       "        vertical-align: middle;\n",
       "    }\n",
       "\n",
       "    .dataframe tbody tr th {\n",
       "        vertical-align: top;\n",
       "    }\n",
       "\n",
       "    .dataframe thead th {\n",
       "        text-align: right;\n",
       "    }\n",
       "</style>\n",
       "<table border=\"1\" class=\"dataframe\">\n",
       "  <thead>\n",
       "    <tr style=\"text-align: right;\">\n",
       "      <th></th>\n",
       "      <th>user_id</th>\n",
       "      <th>age</th>\n",
       "      <th>churn_date</th>\n",
       "      <th>city</th>\n",
       "      <th>first_name</th>\n",
       "      <th>last_name</th>\n",
       "      <th>reg_date</th>\n",
       "      <th>tariff</th>\n",
       "    </tr>\n",
       "  </thead>\n",
       "  <tbody>\n",
       "    <tr>\n",
       "      <td>0</td>\n",
       "      <td>1000</td>\n",
       "      <td>52</td>\n",
       "      <td>NaN</td>\n",
       "      <td>Краснодар</td>\n",
       "      <td>Рафаил</td>\n",
       "      <td>Верещагин</td>\n",
       "      <td>2018-05-25</td>\n",
       "      <td>ultra</td>\n",
       "    </tr>\n",
       "    <tr>\n",
       "      <td>1</td>\n",
       "      <td>1001</td>\n",
       "      <td>41</td>\n",
       "      <td>NaN</td>\n",
       "      <td>Москва</td>\n",
       "      <td>Иван</td>\n",
       "      <td>Ежов</td>\n",
       "      <td>2018-11-01</td>\n",
       "      <td>smart</td>\n",
       "    </tr>\n",
       "    <tr>\n",
       "      <td>2</td>\n",
       "      <td>1002</td>\n",
       "      <td>59</td>\n",
       "      <td>NaN</td>\n",
       "      <td>Стерлитамак</td>\n",
       "      <td>Евгений</td>\n",
       "      <td>Абрамович</td>\n",
       "      <td>2018-06-17</td>\n",
       "      <td>smart</td>\n",
       "    </tr>\n",
       "    <tr>\n",
       "      <td>3</td>\n",
       "      <td>1003</td>\n",
       "      <td>23</td>\n",
       "      <td>NaN</td>\n",
       "      <td>Москва</td>\n",
       "      <td>Белла</td>\n",
       "      <td>Белякова</td>\n",
       "      <td>2018-08-17</td>\n",
       "      <td>ultra</td>\n",
       "    </tr>\n",
       "    <tr>\n",
       "      <td>4</td>\n",
       "      <td>1004</td>\n",
       "      <td>68</td>\n",
       "      <td>NaN</td>\n",
       "      <td>Новокузнецк</td>\n",
       "      <td>Татьяна</td>\n",
       "      <td>Авдеенко</td>\n",
       "      <td>2018-05-14</td>\n",
       "      <td>ultra</td>\n",
       "    </tr>\n",
       "  </tbody>\n",
       "</table>\n",
       "</div>"
      ],
      "text/plain": [
       "   user_id  age churn_date         city first_name  last_name    reg_date  \\\n",
       "0     1000   52        NaN    Краснодар     Рафаил  Верещагин  2018-05-25   \n",
       "1     1001   41        NaN       Москва       Иван       Ежов  2018-11-01   \n",
       "2     1002   59        NaN  Стерлитамак    Евгений  Абрамович  2018-06-17   \n",
       "3     1003   23        NaN       Москва      Белла   Белякова  2018-08-17   \n",
       "4     1004   68        NaN  Новокузнецк    Татьяна   Авдеенко  2018-05-14   \n",
       "\n",
       "  tariff  \n",
       "0  ultra  \n",
       "1  smart  \n",
       "2  smart  \n",
       "3  ultra  \n",
       "4  ultra  "
      ]
     },
     "execution_count": 54,
     "metadata": {},
     "output_type": "execute_result"
    }
   ],
   "source": [
    "df_users = pd.read_csv('/datasets/users.csv') # анализируем пользователей\n",
    "df_users.info()\n",
    "df_users.head()"
   ]
  },
  {
   "cell_type": "markdown",
   "metadata": {},
   "source": [
    "После поверхностного анализа были замечены следующие особенности: в таблице звонков присутствуют нулевые звонки, в таблице пользователей 38 человек завершили пользование тарифами. Поскольку компании важны текущие пользователи (и неизвестно, когда эти 38 человек прекратили пользоваться), то для дальнейшего анализа они не нужны. В любом случае, надо сделать предобработку данных, поэтому приступим."
   ]
  },
  {
   "cell_type": "markdown",
   "metadata": {},
   "source": [
    "# Предобработка данных"
   ]
  },
  {
   "cell_type": "code",
   "execution_count": 55,
   "metadata": {},
   "outputs": [
    {
     "name": "stdout",
     "output_type": "stream",
     "text": [
      "id           0\n",
      "call_date    0\n",
      "duration     0\n",
      "user_id      0\n",
      "dtype: int64\n",
      "Количество дубликатов: 0\n"
     ]
    }
   ],
   "source": [
    "print(df_calls.isnull().sum()) # считаем пропущенные значения для звонков\n",
    "print('Количество дубликатов:', df_calls.duplicated().sum()) # считаем дубликаты для звонков\n",
    "df_calls.drop(df_calls[df_calls.duration == 0.0].index, inplace=True) # удаляем нулевые звонки\n",
    "df_calls['duration'] = np.ceil(df_calls['duration']) # округляем в большую сторону"
   ]
  },
  {
   "cell_type": "code",
   "execution_count": 56,
   "metadata": {},
   "outputs": [
    {
     "name": "stdout",
     "output_type": "stream",
     "text": [
      "id              0\n",
      "message_date    0\n",
      "user_id         0\n",
      "dtype: int64\n",
      "Количество дубликатов: 0\n"
     ]
    }
   ],
   "source": [
    "print(df_messages.isnull().sum()) # считаем пропущенные значения для сообщений\n",
    "print('Количество дубликатов:', df_messages.duplicated().sum()) # считаем дубликаты для сообщений"
   ]
  },
  {
   "cell_type": "code",
   "execution_count": 57,
   "metadata": {},
   "outputs": [
    {
     "name": "stdout",
     "output_type": "stream",
     "text": [
      "id              0\n",
      "mb_used         0\n",
      "session_date    0\n",
      "user_id         0\n",
      "dtype: int64\n",
      "Количество дубликатов: 0\n"
     ]
    }
   ],
   "source": [
    "print(df_internet.isnull().sum()) # считаем пропущенные значения для интернета\n",
    "print('Количество дубликатов:', df_internet.duplicated().sum()) # считаем дубликаты для интернета\n",
    "df_internet['mb_used'] = np.ceil(df_internet['mb_used']) # округляем в большую сторону"
   ]
  },
  {
   "cell_type": "code",
   "execution_count": 58,
   "metadata": {},
   "outputs": [
    {
     "name": "stdout",
     "output_type": "stream",
     "text": [
      "messages_included        0\n",
      "mg_per_month_included    0\n",
      "minutes_included         0\n",
      "rub_monthly_fee          0\n",
      "rub_per_gb               0\n",
      "rub_per_message          0\n",
      "rub_per_minute           0\n",
      "tariff_name              0\n",
      "dtype: int64\n",
      "Количество дубликатов: 0\n"
     ]
    }
   ],
   "source": [
    "print(df_tariffs.isnull().sum()) # считаем пропущенные значения для трафика\n",
    "print('Количество дубликатов:', df_tariffs.duplicated().sum()) # считаем дубликаты для трафика"
   ]
  },
  {
   "cell_type": "code",
   "execution_count": 59,
   "metadata": {},
   "outputs": [
    {
     "name": "stdout",
     "output_type": "stream",
     "text": [
      "user_id         0\n",
      "age             0\n",
      "churn_date    462\n",
      "city            0\n",
      "first_name      0\n",
      "last_name       0\n",
      "reg_date        0\n",
      "tariff          0\n",
      "dtype: int64\n",
      "Количество дубликатов: 0\n",
      "<class 'pandas.core.frame.DataFrame'>\n",
      "Int64Index: 462 entries, 0 to 499\n",
      "Data columns (total 8 columns):\n",
      "user_id       462 non-null int64\n",
      "age           462 non-null int64\n",
      "churn_date    0 non-null object\n",
      "city          462 non-null object\n",
      "first_name    462 non-null object\n",
      "last_name     462 non-null object\n",
      "reg_date      462 non-null object\n",
      "tariff        462 non-null object\n",
      "dtypes: int64(2), object(6)\n",
      "memory usage: 32.5+ KB\n"
     ]
    }
   ],
   "source": [
    "print(df_users.isnull().sum()) # считаем пропущенные значения для пользователей\n",
    "print('Количество дубликатов:', df_users.duplicated().sum()) # считаем дубликаты для пользователей\n",
    "df_users = df_users[pd.isnull(df_users['churn_date'])] # удаляем пользователей\n",
    "df_users.info() # проверка, что удалили ненужных пользователей"
   ]
  },
  {
   "cell_type": "code",
   "execution_count": 60,
   "metadata": {},
   "outputs": [],
   "source": [
    "df_calls['month'] = pd.DatetimeIndex(df_calls['call_date']).month # добавляем столбец с месяцами"
   ]
  },
  {
   "cell_type": "code",
   "execution_count": 61,
   "metadata": {},
   "outputs": [],
   "source": [
    "df_messages['month'] = pd.DatetimeIndex(df_messages['message_date']).month # добавляем столбец с месяцами"
   ]
  },
  {
   "cell_type": "code",
   "execution_count": 62,
   "metadata": {},
   "outputs": [],
   "source": [
    "df_internet['month'] = pd.DatetimeIndex(df_internet['session_date']).month # добавляем столбец с месяцами"
   ]
  },
  {
   "cell_type": "code",
   "execution_count": 63,
   "metadata": {},
   "outputs": [],
   "source": [
    "num_calls = df_calls.groupby(['user_id', 'month'])['duration'].agg(['count','sum']) # подсчет количества звонков\n",
    "num_messages = df_messages.groupby(['user_id', 'month'])['id'].count() # подсчет количества смс\n",
    "num_internet = df_internet.groupby(['user_id', 'month']).sum()['mb_used'] # подсчет трафика"
   ]
  },
  {
   "cell_type": "code",
   "execution_count": 64,
   "metadata": {},
   "outputs": [
    {
     "data": {
      "text/html": [
       "<div>\n",
       "<style scoped>\n",
       "    .dataframe tbody tr th:only-of-type {\n",
       "        vertical-align: middle;\n",
       "    }\n",
       "\n",
       "    .dataframe tbody tr th {\n",
       "        vertical-align: top;\n",
       "    }\n",
       "\n",
       "    .dataframe thead th {\n",
       "        text-align: right;\n",
       "    }\n",
       "</style>\n",
       "<table border=\"1\" class=\"dataframe\">\n",
       "  <thead>\n",
       "    <tr style=\"text-align: right;\">\n",
       "      <th></th>\n",
       "      <th>user_id</th>\n",
       "      <th>month</th>\n",
       "      <th>count</th>\n",
       "      <th>sum</th>\n",
       "      <th>sms</th>\n",
       "      <th>mb_used</th>\n",
       "    </tr>\n",
       "  </thead>\n",
       "  <tbody>\n",
       "    <tr>\n",
       "      <td>0</td>\n",
       "      <td>1000</td>\n",
       "      <td>5</td>\n",
       "      <td>17.0</td>\n",
       "      <td>159.0</td>\n",
       "      <td>22.0</td>\n",
       "      <td>2256.0</td>\n",
       "    </tr>\n",
       "    <tr>\n",
       "      <td>1</td>\n",
       "      <td>1000</td>\n",
       "      <td>6</td>\n",
       "      <td>28.0</td>\n",
       "      <td>172.0</td>\n",
       "      <td>60.0</td>\n",
       "      <td>23257.0</td>\n",
       "    </tr>\n",
       "    <tr>\n",
       "      <td>2</td>\n",
       "      <td>1000</td>\n",
       "      <td>7</td>\n",
       "      <td>41.0</td>\n",
       "      <td>340.0</td>\n",
       "      <td>75.0</td>\n",
       "      <td>14016.0</td>\n",
       "    </tr>\n",
       "    <tr>\n",
       "      <td>3</td>\n",
       "      <td>1000</td>\n",
       "      <td>8</td>\n",
       "      <td>42.0</td>\n",
       "      <td>408.0</td>\n",
       "      <td>81.0</td>\n",
       "      <td>14070.0</td>\n",
       "    </tr>\n",
       "    <tr>\n",
       "      <td>4</td>\n",
       "      <td>1000</td>\n",
       "      <td>9</td>\n",
       "      <td>46.0</td>\n",
       "      <td>466.0</td>\n",
       "      <td>57.0</td>\n",
       "      <td>14581.0</td>\n",
       "    </tr>\n",
       "  </tbody>\n",
       "</table>\n",
       "</div>"
      ],
      "text/plain": [
       "   user_id  month  count    sum   sms  mb_used\n",
       "0     1000      5   17.0  159.0  22.0   2256.0\n",
       "1     1000      6   28.0  172.0  60.0  23257.0\n",
       "2     1000      7   41.0  340.0  75.0  14016.0\n",
       "3     1000      8   42.0  408.0  81.0  14070.0\n",
       "4     1000      9   46.0  466.0  57.0  14581.0"
      ]
     },
     "execution_count": 64,
     "metadata": {},
     "output_type": "execute_result"
    }
   ],
   "source": [
    "df_event_numbers = pd.concat([num_calls, num_messages, num_internet], axis=1) # добавляем новые столбцы\n",
    "df_event_numbers = df_event_numbers.reset_index()\n",
    "df_event_numbers.rename(columns={'id': 'sms'}, inplace=True)\n",
    "df_event_numbers.head()"
   ]
  },
  {
   "cell_type": "code",
   "execution_count": 65,
   "metadata": {},
   "outputs": [],
   "source": [
    "df_all_information = pd.merge(df_event_numbers, df_users.loc[:, ['tariff', 'city', 'age', 'user_id']], on='user_id') # создание сводной таблицы"
   ]
  },
  {
   "cell_type": "code",
   "execution_count": 66,
   "metadata": {},
   "outputs": [],
   "source": [
    "def minutes (raw): # функция для рассчета превышения минут\n",
    "    if raw['tariff'] == 'smart':\n",
    "        if raw['sum'] - 500 > 0:\n",
    "            return (raw['sum'] - 500)*3\n",
    "        return 0\n",
    "    else:\n",
    "        if raw['sum'] - 3000 > 0:\n",
    "            return (raw['sum'] - 3000)*1\n",
    "        return 0"
   ]
  },
  {
   "cell_type": "code",
   "execution_count": 67,
   "metadata": {},
   "outputs": [],
   "source": [
    "def messages (raw): # функция для рассчета превышения сообщений\n",
    "    if raw['tariff'] == 'smart':\n",
    "        if raw['sms'] - 50 > 0:\n",
    "            return (raw['sms'] - 50)*3\n",
    "        return 0\n",
    "    else:\n",
    "        if raw['sms'] - 1000 > 0:\n",
    "            return (raw['sms'] - 1000)*1\n",
    "        return 0"
   ]
  },
  {
   "cell_type": "code",
   "execution_count": 68,
   "metadata": {},
   "outputs": [],
   "source": [
    "def trafic (raw): # функция для рассчета превышения трафика \n",
    "    if raw['tariff'] == 'smart':\n",
    "        if raw['mb_used']/1024 - 15 > 0:\n",
    "            return (raw['mb_used']/1024 - 15)*200\n",
    "        return 0\n",
    "    else:\n",
    "        if raw['mb_used']/1024 - 30 > 0:\n",
    "            return (raw['mb_used']/1024 - 30)*150\n",
    "        return 0"
   ]
  },
  {
   "cell_type": "code",
   "execution_count": 69,
   "metadata": {},
   "outputs": [],
   "source": [
    "def tariff_pay (raw): # функция для стоимости тарифа\n",
    "    if raw['tariff'] == 'smart':\n",
    "        return 550\n",
    "    return 1950"
   ]
  },
  {
   "cell_type": "code",
   "execution_count": 70,
   "metadata": {},
   "outputs": [],
   "source": [
    "df_all_information['minutes_up_rub'] = df_all_information.apply(minutes, axis=1) # считаем превышение минут\n",
    "df_all_information['messages_up_rub'] = df_all_information.apply(messages, axis=1) #  считаем превышение сообщений\n",
    "df_all_information['trafic_up_rub'] = df_all_information.apply(trafic, axis=1) # считаем превышение трафика\n",
    "df_all_information['trafic_up_rub'] = np.ceil(df_all_information['trafic_up_rub'])\n",
    "df_all_information['tariff_pay'] = df_all_information.apply(tariff_pay, axis=1) # определяем цену тарифа\n",
    "df_all_information['total_income'] = (df_all_information['minutes_up_rub'] + df_all_information['messages_up_rub'] + df_all_information['trafic_up_rub'] + df_all_information['tariff_pay']).astype('int') # считаем суммарный доход"
   ]
  },
  {
   "cell_type": "code",
   "execution_count": 71,
   "metadata": {},
   "outputs": [
    {
     "data": {
      "text/html": [
       "<div>\n",
       "<style scoped>\n",
       "    .dataframe tbody tr th:only-of-type {\n",
       "        vertical-align: middle;\n",
       "    }\n",
       "\n",
       "    .dataframe tbody tr th {\n",
       "        vertical-align: top;\n",
       "    }\n",
       "\n",
       "    .dataframe thead th {\n",
       "        text-align: right;\n",
       "    }\n",
       "</style>\n",
       "<table border=\"1\" class=\"dataframe\">\n",
       "  <thead>\n",
       "    <tr style=\"text-align: right;\">\n",
       "      <th></th>\n",
       "      <th>user_id</th>\n",
       "      <th>month</th>\n",
       "      <th>count</th>\n",
       "      <th>sum</th>\n",
       "      <th>sms</th>\n",
       "      <th>mb_used</th>\n",
       "      <th>tariff</th>\n",
       "      <th>city</th>\n",
       "      <th>age</th>\n",
       "      <th>minutes_up_rub</th>\n",
       "      <th>messages_up_rub</th>\n",
       "      <th>trafic_up_rub</th>\n",
       "      <th>tariff_pay</th>\n",
       "      <th>total_income</th>\n",
       "    </tr>\n",
       "  </thead>\n",
       "  <tbody>\n",
       "    <tr>\n",
       "      <td>0</td>\n",
       "      <td>1000</td>\n",
       "      <td>5</td>\n",
       "      <td>17.0</td>\n",
       "      <td>159.0</td>\n",
       "      <td>22.0</td>\n",
       "      <td>2256.0</td>\n",
       "      <td>ultra</td>\n",
       "      <td>Краснодар</td>\n",
       "      <td>52</td>\n",
       "      <td>0.0</td>\n",
       "      <td>0.0</td>\n",
       "      <td>0.0</td>\n",
       "      <td>1950</td>\n",
       "      <td>1950</td>\n",
       "    </tr>\n",
       "    <tr>\n",
       "      <td>1</td>\n",
       "      <td>1000</td>\n",
       "      <td>6</td>\n",
       "      <td>28.0</td>\n",
       "      <td>172.0</td>\n",
       "      <td>60.0</td>\n",
       "      <td>23257.0</td>\n",
       "      <td>ultra</td>\n",
       "      <td>Краснодар</td>\n",
       "      <td>52</td>\n",
       "      <td>0.0</td>\n",
       "      <td>0.0</td>\n",
       "      <td>0.0</td>\n",
       "      <td>1950</td>\n",
       "      <td>1950</td>\n",
       "    </tr>\n",
       "    <tr>\n",
       "      <td>2</td>\n",
       "      <td>1000</td>\n",
       "      <td>7</td>\n",
       "      <td>41.0</td>\n",
       "      <td>340.0</td>\n",
       "      <td>75.0</td>\n",
       "      <td>14016.0</td>\n",
       "      <td>ultra</td>\n",
       "      <td>Краснодар</td>\n",
       "      <td>52</td>\n",
       "      <td>0.0</td>\n",
       "      <td>0.0</td>\n",
       "      <td>0.0</td>\n",
       "      <td>1950</td>\n",
       "      <td>1950</td>\n",
       "    </tr>\n",
       "    <tr>\n",
       "      <td>3</td>\n",
       "      <td>1000</td>\n",
       "      <td>8</td>\n",
       "      <td>42.0</td>\n",
       "      <td>408.0</td>\n",
       "      <td>81.0</td>\n",
       "      <td>14070.0</td>\n",
       "      <td>ultra</td>\n",
       "      <td>Краснодар</td>\n",
       "      <td>52</td>\n",
       "      <td>0.0</td>\n",
       "      <td>0.0</td>\n",
       "      <td>0.0</td>\n",
       "      <td>1950</td>\n",
       "      <td>1950</td>\n",
       "    </tr>\n",
       "    <tr>\n",
       "      <td>4</td>\n",
       "      <td>1000</td>\n",
       "      <td>9</td>\n",
       "      <td>46.0</td>\n",
       "      <td>466.0</td>\n",
       "      <td>57.0</td>\n",
       "      <td>14581.0</td>\n",
       "      <td>ultra</td>\n",
       "      <td>Краснодар</td>\n",
       "      <td>52</td>\n",
       "      <td>0.0</td>\n",
       "      <td>0.0</td>\n",
       "      <td>0.0</td>\n",
       "      <td>1950</td>\n",
       "      <td>1950</td>\n",
       "    </tr>\n",
       "    <tr>\n",
       "      <td>5</td>\n",
       "      <td>1000</td>\n",
       "      <td>10</td>\n",
       "      <td>44.0</td>\n",
       "      <td>350.0</td>\n",
       "      <td>73.0</td>\n",
       "      <td>14717.0</td>\n",
       "      <td>ultra</td>\n",
       "      <td>Краснодар</td>\n",
       "      <td>52</td>\n",
       "      <td>0.0</td>\n",
       "      <td>0.0</td>\n",
       "      <td>0.0</td>\n",
       "      <td>1950</td>\n",
       "      <td>1950</td>\n",
       "    </tr>\n",
       "    <tr>\n",
       "      <td>6</td>\n",
       "      <td>1000</td>\n",
       "      <td>11</td>\n",
       "      <td>37.0</td>\n",
       "      <td>338.0</td>\n",
       "      <td>58.0</td>\n",
       "      <td>14768.0</td>\n",
       "      <td>ultra</td>\n",
       "      <td>Краснодар</td>\n",
       "      <td>52</td>\n",
       "      <td>0.0</td>\n",
       "      <td>0.0</td>\n",
       "      <td>0.0</td>\n",
       "      <td>1950</td>\n",
       "      <td>1950</td>\n",
       "    </tr>\n",
       "    <tr>\n",
       "      <td>7</td>\n",
       "      <td>1000</td>\n",
       "      <td>12</td>\n",
       "      <td>38.0</td>\n",
       "      <td>333.0</td>\n",
       "      <td>70.0</td>\n",
       "      <td>9827.0</td>\n",
       "      <td>ultra</td>\n",
       "      <td>Краснодар</td>\n",
       "      <td>52</td>\n",
       "      <td>0.0</td>\n",
       "      <td>0.0</td>\n",
       "      <td>0.0</td>\n",
       "      <td>1950</td>\n",
       "      <td>1950</td>\n",
       "    </tr>\n",
       "    <tr>\n",
       "      <td>8</td>\n",
       "      <td>1001</td>\n",
       "      <td>11</td>\n",
       "      <td>45.0</td>\n",
       "      <td>430.0</td>\n",
       "      <td>NaN</td>\n",
       "      <td>18452.0</td>\n",
       "      <td>smart</td>\n",
       "      <td>Москва</td>\n",
       "      <td>41</td>\n",
       "      <td>0.0</td>\n",
       "      <td>0.0</td>\n",
       "      <td>604.0</td>\n",
       "      <td>550</td>\n",
       "      <td>1154</td>\n",
       "    </tr>\n",
       "    <tr>\n",
       "      <td>9</td>\n",
       "      <td>1001</td>\n",
       "      <td>12</td>\n",
       "      <td>47.0</td>\n",
       "      <td>414.0</td>\n",
       "      <td>NaN</td>\n",
       "      <td>14053.0</td>\n",
       "      <td>smart</td>\n",
       "      <td>Москва</td>\n",
       "      <td>41</td>\n",
       "      <td>0.0</td>\n",
       "      <td>0.0</td>\n",
       "      <td>0.0</td>\n",
       "      <td>550</td>\n",
       "      <td>550</td>\n",
       "    </tr>\n",
       "  </tbody>\n",
       "</table>\n",
       "</div>"
      ],
      "text/plain": [
       "   user_id  month  count    sum   sms  mb_used tariff       city  age  \\\n",
       "0     1000      5   17.0  159.0  22.0   2256.0  ultra  Краснодар   52   \n",
       "1     1000      6   28.0  172.0  60.0  23257.0  ultra  Краснодар   52   \n",
       "2     1000      7   41.0  340.0  75.0  14016.0  ultra  Краснодар   52   \n",
       "3     1000      8   42.0  408.0  81.0  14070.0  ultra  Краснодар   52   \n",
       "4     1000      9   46.0  466.0  57.0  14581.0  ultra  Краснодар   52   \n",
       "5     1000     10   44.0  350.0  73.0  14717.0  ultra  Краснодар   52   \n",
       "6     1000     11   37.0  338.0  58.0  14768.0  ultra  Краснодар   52   \n",
       "7     1000     12   38.0  333.0  70.0   9827.0  ultra  Краснодар   52   \n",
       "8     1001     11   45.0  430.0   NaN  18452.0  smart     Москва   41   \n",
       "9     1001     12   47.0  414.0   NaN  14053.0  smart     Москва   41   \n",
       "\n",
       "   minutes_up_rub  messages_up_rub  trafic_up_rub  tariff_pay  total_income  \n",
       "0             0.0              0.0            0.0        1950          1950  \n",
       "1             0.0              0.0            0.0        1950          1950  \n",
       "2             0.0              0.0            0.0        1950          1950  \n",
       "3             0.0              0.0            0.0        1950          1950  \n",
       "4             0.0              0.0            0.0        1950          1950  \n",
       "5             0.0              0.0            0.0        1950          1950  \n",
       "6             0.0              0.0            0.0        1950          1950  \n",
       "7             0.0              0.0            0.0        1950          1950  \n",
       "8             0.0              0.0          604.0         550          1154  \n",
       "9             0.0              0.0            0.0         550           550  "
      ]
     },
     "execution_count": 71,
     "metadata": {},
     "output_type": "execute_result"
    }
   ],
   "source": [
    "df_all_information.head(10) # смотрим, что получилось"
   ]
  },
  {
   "cell_type": "markdown",
   "metadata": {},
   "source": [
    "Итак, предобработка данных завершена. Удалены события с нулевыми звонками и пользователи, которые перестали пользоваться тарифами. Преобразованы данные с учетом округления в большую сторону. Составлена сводная таблица по каждому пользователю с посчитанными превышениями по звонкам, сообщениям и интернету. Пора приступать к анализу!"
   ]
  },
  {
   "cell_type": "markdown",
   "metadata": {},
   "source": [
    "# Анализ данных"
   ]
  },
  {
   "cell_type": "code",
   "execution_count": 72,
   "metadata": {},
   "outputs": [
    {
     "data": {
      "text/plain": [
       "Text(0.5, 0, 'Минуты')"
      ]
     },
     "execution_count": 72,
     "metadata": {},
     "output_type": "execute_result"
    },
    {
     "data": {
      "image/png": "[encoded data removed]",
      "text/plain": [
       "<Figure size 1152x1152 with 1 Axes>"
      ]
     },
     "metadata": {
      "needs_background": "light"
     },
     "output_type": "display_data"
    }
   ],
   "source": [
    "ax = plt.gca() # создаем пустой график\n",
    "column = 'sum' # данные какого столбца будем рисовать\n",
    "title = 'Гистограмма длительности звонков, мин.' # заголовок\n",
    "df_all_information[df_all_information['tariff'] == 'smart'][column].plot(kind='hist', bins=40, figsize=(16,16), \n",
    "                                                                    ec='black', ax=ax, color='#92c6ff', \n",
    "                                                                    title=title, xlim=0) # рисуем 1-й график\n",
    "df_all_information[df_all_information['tariff'] == 'ultra'][column].plot(kind='hist', bins=40, figsize=(16,16), \n",
    "                                                                    ec='black', ax=ax, color='#97F0AA', \n",
    "                                                                    title=title, xlim=0, alpha=0.7) # рисуем 2-й график \n",
    "plt.axvline(x=df_all_information[df_all_information['tariff'] == 'smart'][column].median(),\n",
    "            linewidth=3, color='#16B4DC', linestyle='--') # рисуем медианы (сама линия, потом подпись)\n",
    "ax.text(df_all_information[df_all_information['tariff'] == 'smart'][column].median()-50, 170, \n",
    "        '{0:.0f}'.format(df_all_information[df_all_information['tariff'] == 'smart'][column].median()), \n",
    "        fontweight='bold', fontsize='large')\n",
    "plt.axvline(x=df_all_information[df_all_information['tariff'] == 'ultra'][column].median(),\n",
    "            linewidth=3, color='#35B815', linestyle='--') # рисуем медианы (сама линия, потом подпись)\n",
    "ax.text(df_all_information[df_all_information['tariff'] == 'ultra'][column].median()+7, 170, \n",
    "        '{0:.0f}'.format(df_all_information[df_all_information['tariff'] == 'ultra'][column].median()), \n",
    "        fontweight='bold', fontsize='large')\n",
    "plt.legend(['Медиана Смарт', 'Медиана Ультра', 'Смарт', 'Ультра'], prop={'size':12}) # рисуем легенду (содержание и размер шрифта)\n",
    "ax.set_ylabel('Частота')\n",
    "ax.set_xlabel('Минуты')"
   ]
  },
  {
   "cell_type": "code",
   "execution_count": 73,
   "metadata": {},
   "outputs": [
    {
     "name": "stdout",
     "output_type": "stream",
     "text": [
      "Среднее значение тарифа смарт равно: 424\n",
      "Стандартное отклонение тарифа смарт равно: 189\n",
      "Дисперсия тарифа смарт равна: 36017\n",
      "\n",
      "Среднее значение тарифа ультра равно: 555\n",
      "Стандартное отклонение тарифа ультра равно: 307\n",
      "Дисперсия тарифа ультра равна: 94290\n"
     ]
    }
   ],
   "source": [
    "column = 'sum'\n",
    "variance = np.var(df_all_information[df_all_information['tariff'] == 'smart'][column], ddof=1) # считаем дисперсию\n",
    "standard_deviation = np.std(df_all_information[df_all_information['tariff'] == 'smart'][column], ddof=1) # считаем стандартное отклоение\n",
    "print ('Среднее значение тарифа смарт равно:', df_all_information[df_all_information['tariff'] == 'smart'][column].mean().astype('int')) # считаем среднее\n",
    "print ('Стандартное отклонение тарифа смарт равно:', standard_deviation.astype('int')) \n",
    "print ('Дисперсия тарифа смарт равна:', variance.astype('int'))\n",
    "print()\n",
    "variance = np.var(df_all_information[df_all_information['tariff'] == 'ultra'][column], ddof=1) # считаем дисперсию\n",
    "standard_deviation = np.std(df_all_information[df_all_information['tariff'] == 'ultra'][column], ddof=1) # считаем стандартное отклоение\n",
    "print ('Среднее значение тарифа ультра равно:', df_all_information[df_all_information['tariff'] == 'ultra'][column].mean().astype('int')) # считаем среднее\n",
    "print ('Стандартное отклонение тарифа ультра равно:', standard_deviation.astype('int')) \n",
    "print ('Дисперсия тарифа ультра равна:', variance.astype('int'))"
   ]
  },
  {
   "cell_type": "code",
   "execution_count": 74,
   "metadata": {},
   "outputs": [
    {
     "data": {
      "text/plain": [
       "Text(0.5, 0, 'Количество сообщений')"
      ]
     },
     "execution_count": 74,
     "metadata": {},
     "output_type": "execute_result"
    },
    {
     "data": {
      "image/png": "[encoded data removed]",
      "text/plain": [
       "<Figure size 1152x1152 with 1 Axes>"
      ]
     },
     "metadata": {
      "needs_background": "light"
     },
     "output_type": "display_data"
    }
   ],
   "source": [
    "ax = plt.gca() # создаем пустой график\n",
    "column = 'sms' # данные какого столбца будем рисовать\n",
    "title = 'Гистограмма количества сообщений, шт.' # заголовок\n",
    "df_all_information[df_all_information['tariff'] == 'smart'][column].plot(kind='hist', bins=40, figsize=(16,16), \n",
    "                                                                    ec='black', ax=ax, color='#92c6ff', \n",
    "                                                                    title=title, xlim=0) # рисуем 1-й график\n",
    "df_all_information[df_all_information['tariff'] == 'ultra'][column].plot(kind='hist', bins=40, figsize=(16,16), \n",
    "                                                                    ec='black', ax=ax, color='#97F0AA', \n",
    "                                                                    title=title, xlim=0, alpha=0.7) # рисуем 2-й график \n",
    "plt.axvline(x=df_all_information[df_all_information['tariff'] == 'smart'][column].median(),\n",
    "            linewidth=3, color='#16B4DC', linestyle='--') # рисуем медианы (сама линия, потом подпись)\n",
    "ax.text(df_all_information[df_all_information['tariff'] == 'smart'][column].median()-4, 120, \n",
    "        '{0:.0f}'.format(df_all_information[df_all_information['tariff'] == 'smart'][column].median()), \n",
    "        fontweight='bold', fontsize='large')\n",
    "plt.axvline(x=df_all_information[df_all_information['tariff'] == 'ultra'][column].median(),\n",
    "            linewidth=3, color='#35B815', linestyle='--') # рисуем медианы (сама линия, потом подпись)\n",
    "ax.text(df_all_information[df_all_information['tariff'] == 'ultra'][column].median()+1.5, 120, \n",
    "        '{0:.0f}'.format(df_all_information[df_all_information['tariff'] == 'ultra'][column].median()), \n",
    "        fontweight='bold', fontsize='large')\n",
    "plt.legend(['Медиана Смарт', 'Медиана Ультра', 'Смарт', 'Ультра'], prop={'size':12}) # рисуем легенду (содержание и размер шрифта)\n",
    "ax.set_ylabel('Частота') \n",
    "ax.set_xlabel('Количество сообщений')"
   ]
  },
  {
   "cell_type": "code",
   "execution_count": 75,
   "metadata": {},
   "outputs": [
    {
     "name": "stdout",
     "output_type": "stream",
     "text": [
      "Среднее значение тарифа смарт равно: 39\n",
      "Стандартное отклонение тарифа смарт равно: 26\n",
      "Дисперсия тарифа смарт равна: 728\n",
      "\n",
      "Среднее значение тарифа ультра равно: 61\n",
      "Стандартное отклонение тарифа ультра равно: 46\n",
      "Дисперсия тарифа ультра равна: 2165\n"
     ]
    }
   ],
   "source": [
    "column = 'sms'\n",
    "variance = np.var(df_all_information[df_all_information['tariff'] == 'smart'][column], ddof=1) # считаем дисперсию\n",
    "standard_deviation = np.std(df_all_information[df_all_information['tariff'] == 'smart'][column], ddof=1) # считаем стандартное отклоение\n",
    "print ('Среднее значение тарифа смарт равно:', df_all_information[df_all_information['tariff'] == 'smart'][column].mean().astype('int')) # считаем среднее\n",
    "print ('Стандартное отклонение тарифа смарт равно:', standard_deviation.astype('int')) \n",
    "print ('Дисперсия тарифа смарт равна:', variance.astype('int'))\n",
    "print()\n",
    "variance = np.var(df_all_information[df_all_information['tariff'] == 'ultra'][column], ddof=1) # считаем дисперсию\n",
    "standard_deviation = np.std(df_all_information[df_all_information['tariff'] == 'ultra'][column], ddof=1) # считаем стандартное отклоение\n",
    "print ('Среднее значение тарифа ультра равно:', df_all_information[df_all_information['tariff'] == 'ultra'][column].mean().astype('int')) # считаем среднее\n",
    "print ('Стандартное отклонение тарифа ультра равно:', standard_deviation.astype('int')) \n",
    "print ('Дисперсия тарифа ультра равна:', variance.astype('int'))"
   ]
  },
  {
   "cell_type": "code",
   "execution_count": 76,
   "metadata": {},
   "outputs": [
    {
     "data": {
      "text/plain": [
       "Text(0.5, 0, 'Суммарный трафик')"
      ]
     },
     "execution_count": 76,
     "metadata": {},
     "output_type": "execute_result"
    },
    {
     "data": {
      "image/png": "[encoded data removed]",
      "text/plain": [
       "<Figure size 1152x1152 with 1 Axes>"
      ]
     },
     "metadata": {
      "needs_background": "light"
     },
     "output_type": "display_data"
    }
   ],
   "source": [
    "ax = plt.gca() # создаем пустой график\n",
    "column = 'mb_used' # данные какого столбца будем рисовать\n",
    "title = 'Гистограмма использованного трафика, мб.' # заголовок\n",
    "df_all_information[df_all_information['tariff'] == 'smart'][column].plot(kind='hist', bins=40, figsize=(16,16), \n",
    "                                                                    ec='black', ax=ax, color='#92c6ff', \n",
    "                                                                    title=title, xlim=0) # рисуем 1-й график\n",
    "df_all_information[df_all_information['tariff'] == 'ultra'][column].plot(kind='hist', bins=40, figsize=(16,16), \n",
    "                                                                    ec='black', ax=ax, color='#97F0AA', \n",
    "                                                                    title=title, xlim=0, alpha=0.7) # рисуем 2-й график \n",
    "plt.axvline(x=df_all_information[df_all_information['tariff'] == 'smart'][column].median(),\n",
    "            linewidth=3, color='#16B4DC', linestyle='--') # рисуем медианы (сама линия, потом подпись)\n",
    "ax.text(df_all_information[df_all_information['tariff'] == 'smart'][column].median()-2100, 170, \n",
    "        '{0:.0f}'.format(df_all_information[df_all_information['tariff'] == 'smart'][column].median()), \n",
    "        fontweight='bold', fontsize='large')\n",
    "plt.axvline(x=df_all_information[df_all_information['tariff'] == 'ultra'][column].median(),\n",
    "            linewidth=3, color='#35B815', linestyle='--') # рисуем медианы (сама линия, потом подпись)\n",
    "ax.text(df_all_information[df_all_information['tariff'] == 'ultra'][column].median()+300, 170, \n",
    "        '{0:.0f}'.format(df_all_information[df_all_information['tariff'] == 'ultra'][column].median()), \n",
    "        fontweight='bold', fontsize='large')\n",
    "plt.legend(['Медиана Смарт', 'Медиана Ультра', 'Смарт', 'Ультра'], prop={'size':12}) # рисуем легенду (содержание и размер шрифта)\n",
    "ax.set_ylabel('Частота')\n",
    "ax.set_xlabel('Суммарный трафик')"
   ]
  },
  {
   "cell_type": "code",
   "execution_count": 77,
   "metadata": {},
   "outputs": [
    {
     "name": "stdout",
     "output_type": "stream",
     "text": [
      "Среднее значение тарифа смарт равно: 16302\n",
      "Стандартное отклонение тарифа смарт равно: 5833\n",
      "Дисперсия тарифа смарт равна: 34029900\n",
      "\n",
      "Среднее значение тарифа ультра равно: 19804\n",
      "Стандартное отклонение тарифа ультра равно: 9844\n",
      "Дисперсия тарифа ультра равна: 96911895\n"
     ]
    }
   ],
   "source": [
    "column = 'mb_used'\n",
    "variance = np.var(df_all_information[df_all_information['tariff'] == 'smart'][column], ddof=1) # считаем дисперсию\n",
    "standard_deviation = np.std(df_all_information[df_all_information['tariff'] == 'smart'][column], ddof=1) # считаем стандартное отклоение\n",
    "print ('Среднее значение тарифа смарт равно:', df_all_information[df_all_information['tariff'] == 'smart'][column].mean().astype('int')) # считаем среднее\n",
    "print ('Стандартное отклонение тарифа смарт равно:', standard_deviation.astype('int')) \n",
    "print ('Дисперсия тарифа смарт равна:', variance.astype('int'))\n",
    "print()\n",
    "variance = np.var(df_all_information[df_all_information['tariff'] == 'ultra'][column], ddof=1) # считаем дисперсию\n",
    "standard_deviation = np.std(df_all_information[df_all_information['tariff'] == 'ultra'][column], ddof=1) # считаем стандартное отклоение\n",
    "print ('Среднее значение тарифа ультра равно:', df_all_information[df_all_information['tariff'] == 'ultra'][column].mean().astype('int')) # считаем среднее\n",
    "print ('Стандартное отклонение тарифа ультра равно:', standard_deviation.astype('int')) \n",
    "print ('Дисперсия тарифа ультра равна:', variance.astype('int'))"
   ]
  },
  {
   "cell_type": "markdown",
   "metadata": {},
   "source": [
    "Исходя из проведенного анализа, можно сделать следующие выводы: пользователи тарифа ультра совершают более длительные звонки, а пользователи тарифа смарт совершают частые более короткие звонки; точно так же как и количество отправленных смс-сообщений и использованного трафика: пользователи ультра отправляют больше сообщений и используют больше трафика, однако средние и медианные значения пользователей тарифа смарт почти совпадают, разброс меньше, что говорит о том, что пользователи смарт в большинстве своем используют одинаковое количество звонков, сообщений и трафика. Распределения по звонкам и трафику тяготеют к нормальному, а по сообщениям ближе к пуассоновскому."
   ]
  },
  {
   "cell_type": "markdown",
   "metadata": {},
   "source": [
    "# Проверка гипотез"
   ]
  },
  {
   "cell_type": "code",
   "execution_count": 78,
   "metadata": {},
   "outputs": [
    {
     "name": "stdout",
     "output_type": "stream",
     "text": [
      "p-значение:  4.971573005431329e-273\n",
      "Отвергаем нулевую гипотезу\n"
     ]
    }
   ],
   "source": [
    "df_all_information[df_all_information['tariff'] == 'ultra']['total_income']\n",
    "alpha = .05 # критический уровень статистической значимости    \n",
    "results = st.ttest_ind(\n",
    "    df_all_information[df_all_information['tariff'] == 'smart']['total_income'], \n",
    "   df_all_information[df_all_information['tariff'] == 'ultra']['total_income'], equal_var = False)   \n",
    "print('p-значение: ', results.pvalue)   \n",
    "if (results.pvalue < alpha):\n",
    "    print(\"Отвергаем нулевую гипотезу\")\n",
    "else:\n",
    "    print(\"Не получилось отвергнуть нулевую гипотезу\")"
   ]
  },
  {
   "cell_type": "code",
   "execution_count": 86,
   "metadata": {},
   "outputs": [],
   "source": [
    "def mean_confidence_interval(data, confidence=0.95): # функция для расчета доверительного интервала\n",
    "    a = 1.0 * np.array(data)\n",
    "    n = len(a)\n",
    "    m, se = np.mean(a), scipy.stats.sem(a)\n",
    "    h = se * scipy.stats.t.ppf((1 + confidence) / 2., n-1)\n",
    "    return m-h, m, m+h"
   ]
  },
  {
   "cell_type": "code",
   "execution_count": 87,
   "metadata": {},
   "outputs": [
    {
     "data": {
      "text/plain": [
       "(1209.1690712937002, 1242.906043437205, 1276.6430155807097)"
      ]
     },
     "execution_count": 87,
     "metadata": {},
     "output_type": "execute_result"
    }
   ],
   "source": [
    "mean_confidence_interval(df_all_information[df_all_information['tariff'] == 'smart']['total_income']) # строим доверительный интервал"
   ]
  },
  {
   "cell_type": "code",
   "execution_count": 88,
   "metadata": {},
   "outputs": [
    {
     "data": {
      "text/plain": [
       "(2034.6613692816948, 2057.3784378437845, 2080.0955064058744)"
      ]
     },
     "execution_count": 88,
     "metadata": {},
     "output_type": "execute_result"
    }
   ],
   "source": [
    "mean_confidence_interval(df_all_information[df_all_information['tariff'] == 'ultra']['total_income']) # строим доверительный интервал"
   ]
  },
  {
   "cell_type": "code",
   "execution_count": 89,
   "metadata": {},
   "outputs": [
    {
     "name": "stdout",
     "output_type": "stream",
     "text": [
      "p-значение:  0.5266744661806044\n",
      "Не получилось отвергнуть нулевую гипотезу\n"
     ]
    }
   ],
   "source": [
    "alpha = .05 # критический уровень статистической значимости    \n",
    "results = st.ttest_ind(\n",
    "     df_all_information[df_all_information['city'] != 'Москва']['total_income'], \n",
    "    df_all_information[df_all_information['city'] == 'Москва']['total_income'], equal_var = False)   \n",
    "print('p-значение: ', results.pvalue)   \n",
    "if (results.pvalue < alpha):\n",
    "    print(\"Отвергаем нулевую гипотезу\")\n",
    "else:\n",
    "    print(\"Не получилось отвергнуть нулевую гипотезу\")"
   ]
  },
  {
   "cell_type": "code",
   "execution_count": 90,
   "metadata": {},
   "outputs": [
    {
     "data": {
      "text/plain": [
       "(1451.91151559447, 1483.3422873422874, 1514.7730590901047)"
      ]
     },
     "execution_count": 90,
     "metadata": {},
     "output_type": "execute_result"
    }
   ],
   "source": [
    "mean_confidence_interval(df_all_information[df_all_information['city'] != 'Москва']['total_income']) # строим доверительный интервал"
   ]
  },
  {
   "cell_type": "code",
   "execution_count": 91,
   "metadata": {},
   "outputs": [
    {
     "data": {
      "text/plain": [
       "(1444.7469747897749, 1505.3684210526317, 1565.9898673154885)"
      ]
     },
     "execution_count": 91,
     "metadata": {},
     "output_type": "execute_result"
    }
   ],
   "source": [
    "mean_confidence_interval(df_all_information[df_all_information['city'] == 'Москва']['total_income']) # строим доверительный интервал"
   ]
  },
  {
   "cell_type": "markdown",
   "metadata": {},
   "source": [
    "Итак, первая H0 гипотеза: средняя выручка пользователей тарифов «Ультра» и «Смарт» одинакова. Альтернативаня гипотеза: нет, они различаются. Чтобы проверить гипотезу о равенстве среднего двух генеральных совокупностей по взятым из них выборкам, применим метод scipy.stats.ttest_ind. После проведения теста нулевая гипотеза не подтвердилась. Вторая H0 гипотеза: средняя выручка пользователей из Москвы равна выручке пользователей из других регионов. Альтернативаня гипотеза: нет, не равна. После проведения теста нулевая гипотеза подтвердилась. "
   ]
  },
  {
   "cell_type": "markdown",
   "metadata": {},
   "source": [
    "# Общий вывод"
   ]
  },
  {
   "cell_type": "markdown",
   "metadata": {},
   "source": [
    "По итогам работы было выявлено следующее: пользователи тарифа ультра совершают более длительные звонки, а пользователи тарифа смарт совершают частые более короткие звонки; точно так же как и количество отправленных смс-сообщений и использованного трафика: пользователи ультра отправляют больше сообщений и используют больше трафика, однако средние и медианные значения пользователей тарифа смарт почти совпадают, разброс меньше, что говорит о том, что пользователи смарт в большинстве своем используют одинаковое количество звонков, сообщений и трафика. Распределения по звонкам и трафику тяготеют к нормальному, а по сообщениям ближе к пуассоновскому. \n",
    "Чтобы проверить гипотезу о равенстве среднего двух генеральных совокупностей по взятым из них выборкам, был применен метод scipy.stats.ttest_ind. После проведения теста гипотеза \"Средняя выручка пользователей из Москвы отличается от выручки пользователей из других регионов\" подтвердилась, а вот гипотезу \"Средняя выручка пользователей тарифов «Ультра» и «Смарт» различается\" оказалась неверной."
   ]
  }
 ],
 "metadata": {
  "kernelspec": {
   "display_name": "Python 3",
   "language": "python",
   "name": "python3"
  },
  "language_info": {
   "codemirror_mode": {
    "name": "ipython",
    "version": 3
   },
   "file_extension": ".py",
   "mimetype": "text/x-python",
   "name": "python",
   "nbconvert_exporter": "python",
   "pygments_lexer": "ipython3",
   "version": "3.7.4"
  }
 },
 "nbformat": 4,
 "nbformat_minor": 2
}
