{
 "cells": [
  {
   "cell_type": "markdown",
   "metadata": {},
   "source": [
    "Вам нужно защитить данные клиентов страховой компании «Хоть потоп». Разработайте такой метод преобразования данных, чтобы по ним было сложно восстановить персональную информацию. Обоснуйте корректность его работы.\n",
    "\n",
    "Нужно защитить данные, чтобы при преобразовании качество моделей машинного обучения не ухудшилось. Подбирать наилучшую модель не требуется."
   ]
  },
  {
   "cell_type": "markdown",
   "metadata": {},
   "source": [
    "## 1. Загрузка данных"
   ]
  },
  {
   "cell_type": "code",
   "execution_count": 1,
   "metadata": {},
   "outputs": [],
   "source": [
    "# Загрузка библиотек\n",
    "\n",
    "import pandas as pd\n",
    "import numpy as np\n",
    "import matplotlib.pyplot as plt\n",
    "import seaborn as sns\n",
    "\n",
    "import os\n",
    "import urllib.request\n",
    "from pathlib import Path\n",
    "\n",
    "from sklearn.linear_model import LinearRegression\n",
    "from sklearn.metrics import r2_score, mean_squared_error"
   ]
  },
  {
   "cell_type": "code",
   "execution_count": 2,
   "metadata": {},
   "outputs": [],
   "source": [
    "class Dataset:\n",
    "\n",
    "    def path_to_files(self, path, link):\n",
    "        Path('datasets').mkdir(parents=True, exist_ok=True)\n",
    "        def get_file(file_name, url):\n",
    "            if not os.path.exists(file_name):\n",
    "                print(file_name, 'файл не найден, будет загружен из сети')\n",
    "                _ = urllib.request.urlretrieve(url, file_name)\n",
    "        urls = {\n",
    "            'dataset': (path, link)\n",
    "        }\n",
    "        [get_file(*urls[k]) for k in urls]\n",
    "        data = pd.read_csv(urls['dataset'][0])\n",
    "        return data"
   ]
  },
  {
   "cell_type": "code",
   "execution_count": 3,
   "metadata": {},
   "outputs": [],
   "source": [
    "# Присвоим переменной ds класс Dataset\n",
    "\n",
    "ds = Dataset()\n",
    "\n",
    "# Загрузим данные\n",
    "\n",
    "df = ds.path_to_files('insurance.csv','https://code.s3.yandex.net/datasets/insurance.csv')"
   ]
  },
  {
   "cell_type": "code",
   "execution_count": 4,
   "metadata": {},
   "outputs": [
    {
     "data": {
      "text/html": [
       "<div>\n",
       "<style scoped>\n",
       "    .dataframe tbody tr th:only-of-type {\n",
       "        vertical-align: middle;\n",
       "    }\n",
       "\n",
       "    .dataframe tbody tr th {\n",
       "        vertical-align: top;\n",
       "    }\n",
       "\n",
       "    .dataframe thead th {\n",
       "        text-align: right;\n",
       "    }\n",
       "</style>\n",
       "<table border=\"1\" class=\"dataframe\">\n",
       "  <thead>\n",
       "    <tr style=\"text-align: right;\">\n",
       "      <th></th>\n",
       "      <th>Пол</th>\n",
       "      <th>Возраст</th>\n",
       "      <th>Зарплата</th>\n",
       "      <th>Члены семьи</th>\n",
       "      <th>Страховые выплаты</th>\n",
       "    </tr>\n",
       "  </thead>\n",
       "  <tbody>\n",
       "    <tr>\n",
       "      <td>0</td>\n",
       "      <td>1</td>\n",
       "      <td>41.0</td>\n",
       "      <td>49600.0</td>\n",
       "      <td>1</td>\n",
       "      <td>0</td>\n",
       "    </tr>\n",
       "    <tr>\n",
       "      <td>1</td>\n",
       "      <td>0</td>\n",
       "      <td>46.0</td>\n",
       "      <td>38000.0</td>\n",
       "      <td>1</td>\n",
       "      <td>1</td>\n",
       "    </tr>\n",
       "    <tr>\n",
       "      <td>2</td>\n",
       "      <td>0</td>\n",
       "      <td>29.0</td>\n",
       "      <td>21000.0</td>\n",
       "      <td>0</td>\n",
       "      <td>0</td>\n",
       "    </tr>\n",
       "    <tr>\n",
       "      <td>3</td>\n",
       "      <td>0</td>\n",
       "      <td>21.0</td>\n",
       "      <td>41700.0</td>\n",
       "      <td>2</td>\n",
       "      <td>0</td>\n",
       "    </tr>\n",
       "    <tr>\n",
       "      <td>4</td>\n",
       "      <td>1</td>\n",
       "      <td>28.0</td>\n",
       "      <td>26100.0</td>\n",
       "      <td>0</td>\n",
       "      <td>0</td>\n",
       "    </tr>\n",
       "  </tbody>\n",
       "</table>\n",
       "</div>"
      ],
      "text/plain": [
       "   Пол  Возраст  Зарплата  Члены семьи  Страховые выплаты\n",
       "0    1     41.0   49600.0            1                  0\n",
       "1    0     46.0   38000.0            1                  1\n",
       "2    0     29.0   21000.0            0                  0\n",
       "3    0     21.0   41700.0            2                  0\n",
       "4    1     28.0   26100.0            0                  0"
      ]
     },
     "metadata": {},
     "output_type": "display_data"
    },
    {
     "name": "stdout",
     "output_type": "stream",
     "text": [
      "<class 'pandas.core.frame.DataFrame'>\n",
      "RangeIndex: 5000 entries, 0 to 4999\n",
      "Data columns (total 5 columns):\n",
      "Пол                  5000 non-null int64\n",
      "Возраст              5000 non-null float64\n",
      "Зарплата             5000 non-null float64\n",
      "Члены семьи          5000 non-null int64\n",
      "Страховые выплаты    5000 non-null int64\n",
      "dtypes: float64(2), int64(3)\n",
      "memory usage: 195.4 KB\n"
     ]
    },
    {
     "data": {
      "text/plain": [
       "None"
      ]
     },
     "metadata": {},
     "output_type": "display_data"
    },
    {
     "data": {
      "text/html": [
       "<div>\n",
       "<style scoped>\n",
       "    .dataframe tbody tr th:only-of-type {\n",
       "        vertical-align: middle;\n",
       "    }\n",
       "\n",
       "    .dataframe tbody tr th {\n",
       "        vertical-align: top;\n",
       "    }\n",
       "\n",
       "    .dataframe thead th {\n",
       "        text-align: right;\n",
       "    }\n",
       "</style>\n",
       "<table border=\"1\" class=\"dataframe\">\n",
       "  <thead>\n",
       "    <tr style=\"text-align: right;\">\n",
       "      <th></th>\n",
       "      <th>Пол</th>\n",
       "      <th>Возраст</th>\n",
       "      <th>Зарплата</th>\n",
       "      <th>Члены семьи</th>\n",
       "      <th>Страховые выплаты</th>\n",
       "    </tr>\n",
       "  </thead>\n",
       "  <tbody>\n",
       "    <tr>\n",
       "      <td>count</td>\n",
       "      <td>5000.000000</td>\n",
       "      <td>5000.000000</td>\n",
       "      <td>5000.000000</td>\n",
       "      <td>5000.000000</td>\n",
       "      <td>5000.000000</td>\n",
       "    </tr>\n",
       "    <tr>\n",
       "      <td>mean</td>\n",
       "      <td>0.499000</td>\n",
       "      <td>30.952800</td>\n",
       "      <td>39916.360000</td>\n",
       "      <td>1.194200</td>\n",
       "      <td>0.148000</td>\n",
       "    </tr>\n",
       "    <tr>\n",
       "      <td>std</td>\n",
       "      <td>0.500049</td>\n",
       "      <td>8.440807</td>\n",
       "      <td>9900.083569</td>\n",
       "      <td>1.091387</td>\n",
       "      <td>0.463183</td>\n",
       "    </tr>\n",
       "    <tr>\n",
       "      <td>min</td>\n",
       "      <td>0.000000</td>\n",
       "      <td>18.000000</td>\n",
       "      <td>5300.000000</td>\n",
       "      <td>0.000000</td>\n",
       "      <td>0.000000</td>\n",
       "    </tr>\n",
       "    <tr>\n",
       "      <td>25%</td>\n",
       "      <td>0.000000</td>\n",
       "      <td>24.000000</td>\n",
       "      <td>33300.000000</td>\n",
       "      <td>0.000000</td>\n",
       "      <td>0.000000</td>\n",
       "    </tr>\n",
       "    <tr>\n",
       "      <td>50%</td>\n",
       "      <td>0.000000</td>\n",
       "      <td>30.000000</td>\n",
       "      <td>40200.000000</td>\n",
       "      <td>1.000000</td>\n",
       "      <td>0.000000</td>\n",
       "    </tr>\n",
       "    <tr>\n",
       "      <td>75%</td>\n",
       "      <td>1.000000</td>\n",
       "      <td>37.000000</td>\n",
       "      <td>46600.000000</td>\n",
       "      <td>2.000000</td>\n",
       "      <td>0.000000</td>\n",
       "    </tr>\n",
       "    <tr>\n",
       "      <td>max</td>\n",
       "      <td>1.000000</td>\n",
       "      <td>65.000000</td>\n",
       "      <td>79000.000000</td>\n",
       "      <td>6.000000</td>\n",
       "      <td>5.000000</td>\n",
       "    </tr>\n",
       "  </tbody>\n",
       "</table>\n",
       "</div>"
      ],
      "text/plain": [
       "               Пол      Возраст      Зарплата  Члены семьи  Страховые выплаты\n",
       "count  5000.000000  5000.000000   5000.000000  5000.000000        5000.000000\n",
       "mean      0.499000    30.952800  39916.360000     1.194200           0.148000\n",
       "std       0.500049     8.440807   9900.083569     1.091387           0.463183\n",
       "min       0.000000    18.000000   5300.000000     0.000000           0.000000\n",
       "25%       0.000000    24.000000  33300.000000     0.000000           0.000000\n",
       "50%       0.000000    30.000000  40200.000000     1.000000           0.000000\n",
       "75%       1.000000    37.000000  46600.000000     2.000000           0.000000\n",
       "max       1.000000    65.000000  79000.000000     6.000000           5.000000"
      ]
     },
     "metadata": {},
     "output_type": "display_data"
    }
   ],
   "source": [
    "# Изучим датасет\n",
    "\n",
    "display(df.head())\n",
    "display(df.info())\n",
    "display(df.describe())"
   ]
  },
  {
   "cell_type": "code",
   "execution_count": 5,
   "metadata": {},
   "outputs": [
    {
     "data": {
      "text/plain": [
       "Пол                  int64\n",
       "Возраст              int64\n",
       "Зарплата             int64\n",
       "Члены семьи          int64\n",
       "Страховые выплаты    int64\n",
       "dtype: object"
      ]
     },
     "execution_count": 5,
     "metadata": {},
     "output_type": "execute_result"
    }
   ],
   "source": [
    "# Приведем возраст и зарплату к int \n",
    "\n",
    "df['Возраст'] = df['Возраст'].astype(int)\n",
    "df['Зарплата'] = df['Зарплата'].astype(int)\n",
    "df.dtypes"
   ]
  },
  {
   "cell_type": "code",
   "execution_count": 6,
   "metadata": {},
   "outputs": [
    {
     "data": {
      "text/plain": [
       "153"
      ]
     },
     "execution_count": 6,
     "metadata": {},
     "output_type": "execute_result"
    }
   ],
   "source": [
    "# Посмотрим на количество дубликатов в таблице\n",
    "\n",
    "df.duplicated().sum()"
   ]
  },
  {
   "cell_type": "code",
   "execution_count": 7,
   "metadata": {},
   "outputs": [
    {
     "data": {
      "text/plain": [
       "Пол                  0\n",
       "Возраст              0\n",
       "Зарплата             0\n",
       "Члены семьи          0\n",
       "Страховые выплаты    0\n",
       "dtype: int64"
      ]
     },
     "execution_count": 7,
     "metadata": {},
     "output_type": "execute_result"
    }
   ],
   "source": [
    "# Посмотрим на количество пустых значений\n",
    "\n",
    "df.isna().sum()"
   ]
  },
  {
   "cell_type": "code",
   "execution_count": 8,
   "metadata": {},
   "outputs": [],
   "source": [
    "# Избавимся от дубликатов\n",
    "\n",
    "df= df.drop_duplicates()"
   ]
  },
  {
   "cell_type": "markdown",
   "metadata": {},
   "source": [
    "Предобработка данных выполнена. Данные приведены к нужным типам, дубликаты удалены, пропущенные значения проверены. Можно приступать к анализу данных."
   ]
  },
  {
   "cell_type": "markdown",
   "metadata": {},
   "source": [
    "## 2. Умножение матриц"
   ]
  },
  {
   "cell_type": "markdown",
   "metadata": {},
   "source": [
    "Обозначения:\n",
    "\n",
    "- $X$ — матрица признаков (нулевой столбец состоит из единиц)\n",
    "\n",
    "- $y$ — вектор целевого признака\n",
    "\n",
    "- $P$ — матрица, на которую умножаются признаки\n",
    "\n",
    "- $w$ — вектор весов линейной регрессии (нулевой элемент равен сдвигу)"
   ]
  },
  {
   "cell_type": "markdown",
   "metadata": {},
   "source": [
    "Предсказания:\n",
    "\n",
    "$$\n",
    "a = Xw\n",
    "$$\n",
    "\n",
    "Задача обучения:\n",
    "\n",
    "$$\n",
    "w = \\arg\\min_w MSE(Xw, y)\n",
    "$$\n",
    "\n",
    "Формула обучения:\n",
    "\n",
    "$$\n",
    "w = (X^T X)^{-1} X^T y\n",
    "$$"
   ]
  },
  {
   "cell_type": "markdown",
   "metadata": {},
   "source": [
    "**Ответ:** Нет, не изменится.\n",
    "\n",
    "**Обоснование:** \n",
    "\n",
    "Формула расчета весов для линейной регрессии:\n",
    "\n",
    "$$\n",
    "w = (X^T X)^{-1} X^T y\n",
    "$$\n",
    "\n",
    "Представим новую матрицу признаков $X_{1}$ как произведение старой $X$ на матрицу $P$ (обратимую):\n",
    "\n",
    "$$\n",
    "X_{1} = X \\otimes P\n",
    "$$\n",
    "\n",
    "Подставим новое значение $X_{1}$ в формулу $w_{1}$:\n",
    "\n",
    "$$\n",
    "w_{1} = ((X P)^T X P)^{-1} (X P)^T y\n",
    "$$\n",
    "\n",
    "Раскроем первое произведение $ (XP)^T $:\n",
    "\n",
    "$$\n",
    "w_{1} = (P^T X^T X P)^{-1} P^T X^T y\n",
    "$$\n",
    "\n",
    "Перегруппируем множители в скобках, чтобы это выглядело как произведение трех множителей:\n",
    "\n",
    "$$\n",
    "w_{1} = (P^T (X^T X) P)^{-1} P^T X^T y\n",
    "$$\n",
    "\n",
    "Раскроем скобки $ (P^T (X^T X) P)^{-1} $:\n",
    "\n",
    "$$\n",
    "w_{1} = P^{-1} (X^T X)^{-1} (P^T)^{-1} P^T X^T y\n",
    "$$\n",
    "\n",
    "Так как $P$ по условию обратимая, то произведение $(P^T)^{-1} P^T$ равно $E$ (единичная матрица):\n",
    "\n",
    "$$\n",
    "w_{1} = P^{-1} (X^T X)^{-1} E X^T y = P^{-1} (X^T X)^{-1} X^T y\n",
    "$$\n",
    "\n",
    "Можно заметить, что справа получилась формула для $w$:\n",
    "\n",
    "$$\n",
    "w_{1} = P^{-1} (X^T X)^{-1} X^T y = P^{-1} w\n",
    "$$\n",
    "\n",
    "Подставим новое значение весов  $𝑤_{1}$  в формулу для предсказаний линейной регрессии.\n",
    "Предсказания модели расчитываются по формуле:\n",
    "\n",
    "$$\n",
    "a = Xw\n",
    "$$\n",
    "\n",
    "Подставим в эту формулу значения $X_{1}$ и $w_{1}$ для того, чтобы на их основе вычислить предсказания модели $a_{1}$:\n",
    "\n",
    "$$\n",
    "a_{1} = X_{1}w_{1} = XPP^{-1} w\n",
    "$$\n",
    "\n",
    "Так как $P$ по условию обратимая, то произведение $PP^{-1}$ снова равно $E$:\n",
    "\n",
    "$$\n",
    "a_{1} = XPP^{-1} w = X E w = X w = a\n",
    "$$\n",
    "\n",
    "Мы доказали, что предсказания $a_{1}$ для матрицы признаков, умноженных на обратимую матрицу $P$ равны предсказаниям $a$.<br>\n",
    "Следовательно, отвечая на вопрос изменится ли качество линейной регрессии при умножении признаков на обратимую матрицу - нет, не изменится. В данном случае, параметры линейной регрессии в исходной задаче $w$ и в преобразованной $w_{1}$ связаны следующим образом:\n",
    "\n",
    "$$\n",
    "w_{1} = P^{-1} w\n",
    "$$"
   ]
  },
  {
   "cell_type": "markdown",
   "metadata": {},
   "source": [
    "## 3. Алгоритм преобразования"
   ]
  },
  {
   "cell_type": "markdown",
   "metadata": {},
   "source": [
    "**Алгоритм**\n",
    "\n",
    "Чтобы защитить данные и не потерять качество модели машинного обучения, нужно умножить признаки на обратимую матрицу $P$. \n",
    "Для этого алгоритм преобразования данных должен содержать процесс создания подобной матрицы $P$ и ее умножения на матрицу признаков. "
   ]
  },
  {
   "cell_type": "markdown",
   "metadata": {},
   "source": [
    "**Обоснование**"
   ]
  },
  {
   "cell_type": "code",
   "execution_count": 9,
   "metadata": {},
   "outputs": [
    {
     "data": {
      "text/plain": [
       "array([[84, 29, 18, 55],\n",
       "       [66, 48, 24, 93],\n",
       "       [39, 71, 40, 52],\n",
       "       [24, 22, 62, 97]])"
      ]
     },
     "execution_count": 9,
     "metadata": {},
     "output_type": "execute_result"
    }
   ],
   "source": [
    "# Так как по условию задачи эта матрица при умножении на матрицу признаков должна давать матрицу такого же размера\n",
    "# как исходная, то P должна быть квадратной с размером, равным количеству признаков, в нашем случае их 4.\n",
    "\n",
    "random_matrix = np.random.randint(100,size = (4, 4))\n",
    "random_matrix"
   ]
  },
  {
   "cell_type": "code",
   "execution_count": 10,
   "metadata": {},
   "outputs": [
    {
     "data": {
      "text/plain": [
       "array([[ 0.0209576 , -0.01036122, -0.00114091, -0.0013376 ],\n",
       "       [-0.01118455,  0.00849514,  0.01615123, -0.01046146],\n",
       "       [ 0.01692889, -0.03433216,  0.01087758,  0.01748627],\n",
       "       [-0.01346921,  0.02258114, -0.01033356,  0.00183614]])"
      ]
     },
     "execution_count": 10,
     "metadata": {},
     "output_type": "execute_result"
    }
   ],
   "source": [
    "# Проверим матрицу на обратимость \n",
    "\n",
    "matrix_inverted = np.linalg.inv(random_matrix)\n",
    "matrix_inverted"
   ]
  },
  {
   "cell_type": "code",
   "execution_count": 11,
   "metadata": {},
   "outputs": [],
   "source": [
    "# Обозначим признаки и целевой признак\n",
    "\n",
    "features = df.drop('Страховые выплаты', axis = 1)\n",
    "target = df['Страховые выплаты']"
   ]
  },
  {
   "cell_type": "code",
   "execution_count": 12,
   "metadata": {},
   "outputs": [
    {
     "data": {
      "text/plain": [
       "-0.00033814455821401523"
      ]
     },
     "execution_count": 12,
     "metadata": {},
     "output_type": "execute_result"
    }
   ],
   "source": [
    "# Рассчитаем веса для исходных признаков по стандартной формуле w = (X^T X)^{-1} X^T y\n",
    "\n",
    "w = np.linalg.inv(features.T.dot(features)).dot(features.T).dot(target)\n",
    "\n",
    "# Рассчитаем вектор предсказаний по исходным признакам по формуле 𝑎=𝑋𝑤\n",
    "\n",
    "a = features @ w\n",
    "\n",
    "# Проведем преобразование признаков\n",
    "\n",
    "features_p = features @ random_matrix\n",
    "\n",
    "# Рассчитаем веса  𝑤1  для преобразованных признаков по стандартной формуле  𝑤=(𝑋𝑇𝑋)−1𝑋𝑇𝑦\n",
    "\n",
    "w1 = np.linalg.inv(features_p.T.dot(features_p)).dot(features_p.T).dot(target)\n",
    "\n",
    "# Рассчитаем вектор предсказаний по преобразованным признакам по формуле  𝑎=𝑋𝑤\n",
    "\n",
    "a1 = features_p @ w1\n",
    "\n",
    "# Получим вектор разниц между предсказаниями по исходным признакам  𝑎  и преобразованным  𝑎1\n",
    "\n",
    "diff = a - a1\n",
    "\n",
    "# Просуммируем все элементы вектора diff, чтобы убедиться, что расхождения минимальны\n",
    "\n",
    "diff.sum()"
   ]
  },
  {
   "cell_type": "markdown",
   "metadata": {},
   "source": [
    "Исходя из полученных данных мы видим, что сумма расхождений совсем маленькая (ее можно значительно уменьшить, если масштабировать признаки). Это значит $𝑎$ равен $𝑎_{1}$. Мы доказали, что преобразование не приводит к разным предсказаниям модели и не ухудшает качество модели."
   ]
  },
  {
   "cell_type": "markdown",
   "metadata": {},
   "source": [
    "## 4. Проверка алгоритма"
   ]
  },
  {
   "cell_type": "code",
   "execution_count": 13,
   "metadata": {},
   "outputs": [
    {
     "name": "stdout",
     "output_type": "stream",
     "text": [
      "MSE Score: 0.1252726382276536\n",
      "R2_Score на исходных данных:  0.4302010046633359\n"
     ]
    }
   ],
   "source": [
    "# Создадим модель линейной регрессии для исходных данных и посмотрим ее оценку R2_Score\n",
    "\n",
    "model = LinearRegression(normalize = True)\n",
    "model.fit(features, target)\n",
    "predictions = model.predict(features)\n",
    "mse = mean_squared_error(target, predictions)\n",
    "print('MSE Score:', mse)\n",
    "print('R2_Score на исходных данных: ',r2_score(target, predictions))"
   ]
  },
  {
   "cell_type": "code",
   "execution_count": 14,
   "metadata": {},
   "outputs": [
    {
     "name": "stdout",
     "output_type": "stream",
     "text": [
      "MSE Score: 0.1252726382276536\n",
      "R2_Score для преобразованных  признаков:  0.4302010046633371\n"
     ]
    }
   ],
   "source": [
    "# Преобразуем признаки умножив на матрицу P и рассчитаем R2_Score\n",
    "\n",
    "features_matrix = features @ random_matrix\n",
    "model.fit(features_matrix, target)\n",
    "predictions_matrix = model.predict(features_matrix)\n",
    "mse = mean_squared_error(target, predictions)\n",
    "print('MSE Score:', mse)\n",
    "print('R2_Score для преобразованных  признаков: ',r2_score(target, predictions_matrix))"
   ]
  },
  {
   "cell_type": "markdown",
   "metadata": {},
   "source": [
    "\n",
    "Исходя их полученных результатов, можно сказать, что преобразованные данные схожи с результатами исходных данных. \n",
    "То есть, мы защитили данные пользователей и при этом не ухудшили качество модели машинного обучения."
   ]
  }
 ],
 "metadata": {
  "kernelspec": {
   "display_name": "Python 3",
   "language": "python",
   "name": "python3"
  },
  "language_info": {
   "codemirror_mode": {
    "name": "ipython",
    "version": 3
   },
   "file_extension": ".py",
   "mimetype": "text/x-python",
   "name": "python",
   "nbconvert_exporter": "python",
   "pygments_lexer": "ipython3",
   "version": "3.8.3"
  },
  "toc": {
   "base_numbering": 1,
   "nav_menu": {},
   "number_sections": true,
   "sideBar": true,
   "skip_h1_title": true,
   "title_cell": "Table of Contents",
   "title_sidebar": "Contents",
   "toc_cell": false,
   "toc_position": {},
   "toc_section_display": true,
   "toc_window_display": false
  }
 },
 "nbformat": 4,
 "nbformat_minor": 2
}
